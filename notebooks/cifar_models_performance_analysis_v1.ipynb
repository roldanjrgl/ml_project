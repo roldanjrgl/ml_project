{
 "cells": [
  {
   "cell_type": "markdown",
   "id": "7521f73b",
   "metadata": {},
   "source": [
    "# Load data"
   ]
  },
  {
   "cell_type": "code",
   "execution_count": 1,
   "id": "2ebc15ca",
   "metadata": {},
   "outputs": [],
   "source": [
    "import torchvision.datasets as dsets\n",
    "import torchvision.transforms as transforms"
   ]
  },
  {
   "cell_type": "code",
   "execution_count": 3,
   "id": "227b3452",
   "metadata": {},
   "outputs": [
    {
     "name": "stdout",
     "output_type": "stream",
     "text": [
      "Files already downloaded and verified\n",
      "Files already downloaded and verified\n"
     ]
    }
   ],
   "source": [
    "# Transformations\n",
    "transform_train = transforms.Compose([\n",
    "    transforms.RandomCrop(32, padding=4),\n",
    "    transforms.RandomHorizontalFlip(),\n",
    "    transforms.ToTensor(),\n",
    "    transforms.Normalize((0.4914, 0.4822, 0.4465), (0.2023, 0.1994, 0.2010)),\n",
    "])\n",
    "transform_test = transforms.Compose([\n",
    "    transforms.ToTensor(),\n",
    "    transforms.Normalize((0.4914, 0.4822, 0.4465), (0.2023, 0.1994, 0.2010)),\n",
    "])\n",
    "\n",
    "# Load train set\n",
    "train_set = dsets.CIFAR10('../', train=True, download=True, transform=transform_train)\n",
    "\n",
    "# Load test set (using as validation)\n",
    "val_set = dsets.CIFAR10('../', train=False, download=True, transform=transform_test)"
   ]
  },
  {
   "cell_type": "markdown",
   "id": "b0af5dd2",
   "metadata": {},
   "source": [
    "# Import Resnet Models\n",
    "----"
   ]
  },
  {
   "cell_type": "code",
   "execution_count": 4,
   "id": "90259cea",
   "metadata": {},
   "outputs": [],
   "source": [
    "import torch\n",
    "import torch.nn as nn\n",
    "import torch.optim as optim\n",
    "import numpy as np\n",
    "import os.path\n",
    "from torch.utils.data import DataLoader\n",
    "from tqdm.auto import tqdm\n",
    "from copy import deepcopy\n",
    "from resnet import ResNet18"
   ]
  },
  {
   "cell_type": "code",
   "execution_count": 5,
   "id": "6aefaa9e",
   "metadata": {},
   "outputs": [],
   "source": [
    "# Select device\n",
    "# device = torch.device('cuda')\n",
    "device = torch.device('cpu')"
   ]
  },
  {
   "cell_type": "markdown",
   "id": "15f680b2",
   "metadata": {},
   "source": [
    "## Import Resnet model"
   ]
  },
  {
   "cell_type": "code",
   "execution_count": 6,
   "id": "8311f723",
   "metadata": {},
   "outputs": [
    {
     "name": "stdout",
     "output_type": "stream",
     "text": [
      "Loading saved model\n"
     ]
    }
   ],
   "source": [
    "# Check for model\n",
    "if os.path.isfile('cifar resnet.pt'):\n",
    "    # Load saved model\n",
    "    print('Loading saved model')\n",
    "    model_resnet = torch.load('cifar resnet.pt').to(device)\n",
    "else:\n",
    "    print('Model not available')"
   ]
  },
  {
   "cell_type": "markdown",
   "id": "1f716735",
   "metadata": {},
   "source": [
    "## Import surrogate"
   ]
  },
  {
   "cell_type": "code",
   "execution_count": 7,
   "id": "e143a345",
   "metadata": {},
   "outputs": [],
   "source": [
    "from fastshap import ImageSurrogate\n",
    "from fastshap.utils import MaskLayer2d, KLDivLoss, DatasetInputOnly"
   ]
  },
  {
   "cell_type": "code",
   "execution_count": 8,
   "id": "873b3ccf",
   "metadata": {},
   "outputs": [
    {
     "name": "stdout",
     "output_type": "stream",
     "text": [
      "Loading saved surrogate model\n"
     ]
    }
   ],
   "source": [
    "# Check for model\n",
    "if os.path.isfile('cifar surrogate.pt'):\n",
    "    print('Loading saved surrogate model')\n",
    "    surr = torch.load('cifar surrogate.pt').to(device)\n",
    "    surrogate = ImageSurrogate(surr, width=32, height=32, superpixel_size=2)\n",
    "\n",
    "else:\n",
    "    print('Model not available')"
   ]
  },
  {
   "cell_type": "markdown",
   "id": "e11bb0c7",
   "metadata": {},
   "source": [
    "## Import Explainer"
   ]
  },
  {
   "cell_type": "code",
   "execution_count": 9,
   "id": "ca5f640f",
   "metadata": {},
   "outputs": [],
   "source": [
    "from unet import UNet\n",
    "from fastshap import FastSHAP"
   ]
  },
  {
   "cell_type": "code",
   "execution_count": 10,
   "id": "71acd881",
   "metadata": {},
   "outputs": [
    {
     "name": "stdout",
     "output_type": "stream",
     "text": [
      "Loading saved explainer model\n"
     ]
    }
   ],
   "source": [
    "# Check for model\n",
    "if os.path.isfile('cifar explainer.pt'):\n",
    "    print('Loading saved explainer model')\n",
    "    explainer = torch.load('cifar explainer.pt').to(device)\n",
    "    fastshap = FastSHAP(explainer, surrogate, link=nn.LogSoftmax(dim=1))\n",
    "\n",
    "else:\n",
    "    print('Model not available')"
   ]
  },
  {
   "cell_type": "markdown",
   "id": "7faa9125",
   "metadata": {},
   "source": [
    "# Import Vit Models\n",
    "-----"
   ]
  },
  {
   "cell_type": "markdown",
   "id": "c0744c07",
   "metadata": {},
   "source": [
    "## Import Vit Model"
   ]
  },
  {
   "cell_type": "code",
   "execution_count": 29,
   "id": "9d7c4cc2",
   "metadata": {},
   "outputs": [],
   "source": [
    "from vit import ViT\n",
    "model_path = 'cifar_c10_vit.pt'"
   ]
  },
  {
   "cell_type": "code",
   "execution_count": 30,
   "id": "c1d47df0",
   "metadata": {},
   "outputs": [
    {
     "name": "stdout",
     "output_type": "stream",
     "text": [
      "Loading saved model\n"
     ]
    }
   ],
   "source": [
    "if os.path.isfile(model_path):\n",
    "    # load saved model\n",
    "    print(\"Loading saved model\")\n",
    "    model_vit = torch.load(model_path).to(device)\n",
    "else:\n",
    "    print('Model not available')"
   ]
  },
  {
   "cell_type": "code",
   "execution_count": 31,
   "id": "00a93c3d",
   "metadata": {},
   "outputs": [],
   "source": [
    "torch.save(model.cpu(), model_path)"
   ]
  },
  {
   "cell_type": "markdown",
   "id": "fad1e43f",
   "metadata": {},
   "source": [
    "## Import surrogates"
   ]
  },
  {
   "cell_type": "code",
   "execution_count": 15,
   "id": "5ff9508c",
   "metadata": {},
   "outputs": [],
   "source": [
    "from fastshap import ImageSurrogate\n",
    "from fastshap.utils import MaskLayer2d, DatasetInputOnly, KLDivLoss"
   ]
  },
  {
   "cell_type": "code",
   "execution_count": 16,
   "id": "108624d9",
   "metadata": {},
   "outputs": [],
   "source": [
    "surr_model_path = 'cifar_c10_vit_surrogate_lb20.pt'"
   ]
  },
  {
   "cell_type": "code",
   "execution_count": 17,
   "id": "9c2c6e3d",
   "metadata": {},
   "outputs": [
    {
     "name": "stdout",
     "output_type": "stream",
     "text": [
      "Loading saved surrogate model\n"
     ]
    }
   ],
   "source": [
    "# Check for model\n",
    "if os.path.isfile(surr_model_path):\n",
    "    print('Loading saved surrogate model')\n",
    "    surr = torch.load(surr_model_path).to(device)\n",
    "    surrogate = ImageSurrogate(surr, width=32, height=32, superpixel_size=2)\n",
    "else:\n",
    "    print('Model not available')"
   ]
  },
  {
   "cell_type": "markdown",
   "id": "78d77c45",
   "metadata": {},
   "source": [
    "## Import explainer"
   ]
  },
  {
   "cell_type": "code",
   "execution_count": 18,
   "id": "171e3355",
   "metadata": {},
   "outputs": [],
   "source": [
    "from unet import UNet\n",
    "from fastshap import FastSHAP"
   ]
  },
  {
   "cell_type": "code",
   "execution_count": 19,
   "id": "13c8c4a7",
   "metadata": {},
   "outputs": [],
   "source": [
    "explainer_path = 'cifar_explainer_unet_lb20.pt'"
   ]
  },
  {
   "cell_type": "code",
   "execution_count": 20,
   "id": "6bcc8ee1",
   "metadata": {},
   "outputs": [
    {
     "name": "stdout",
     "output_type": "stream",
     "text": [
      "Loading saved explainer model\n"
     ]
    }
   ],
   "source": [
    "# Check for model\n",
    "if os.path.isfile(explainer_path):\n",
    "    print('Loading saved explainer model')\n",
    "    explainer = torch.load(explainer_path).to(device)\n",
    "    fastshap = FastSHAP(explainer, surrogate, link=nn.LogSoftmax(dim=1))\n",
    "\n",
    "else:\n",
    "    print('Model not available')"
   ]
  },
  {
   "cell_type": "markdown",
   "id": "a86c0223",
   "metadata": {},
   "source": [
    "# Initialize dataset"
   ]
  },
  {
   "cell_type": "code",
   "execution_count": 112,
   "id": "afe9197a",
   "metadata": {},
   "outputs": [],
   "source": [
    "dset = val_set\n",
    "# dset_size = 10000\n",
    "dset_size = 10\n",
    "targets = np.array(dset.targets)\n",
    "num_classes = targets.max() + 1\n",
    "classes = ['Airplane', 'Car', 'Bird', 'Cat', 'Deer', 'Dog', 'Frog', 'Horse', 'Ship', 'Truck']"
   ]
  },
  {
   "cell_type": "markdown",
   "id": "a7cbc79c",
   "metadata": {},
   "source": [
    "# Plot individual images and values"
   ]
  },
  {
   "cell_type": "code",
   "execution_count": 113,
   "id": "bb045c94",
   "metadata": {},
   "outputs": [],
   "source": [
    "import matplotlib.pyplot as plt"
   ]
  },
  {
   "cell_type": "code",
   "execution_count": 114,
   "id": "7a193b57",
   "metadata": {},
   "outputs": [],
   "source": [
    "def plot_img(x):\n",
    "    mean = np.array([0.4914, 0.4822, 0.4465])[:, np.newaxis, np.newaxis]\n",
    "    std = np.array([0.2023, 0.1994, 0.2010])[:, np.newaxis, np.newaxis]\n",
    "    im = x.numpy() * std + mean    \n",
    "    im = im.transpose(1, 2, 0).astype(float)\n",
    "    im = np.clip(im, a_min=0, a_max=1)\n",
    "    plt.imshow(im, vmin=0, vmax=1)\n",
    "    plt.show()"
   ]
  },
  {
   "cell_type": "code",
   "execution_count": 115,
   "id": "9b8026dd",
   "metadata": {},
   "outputs": [],
   "source": [
    "def plot_values(value):\n",
    "#     plt.imshow(value, cmap='seismic',vmin=-m, vmax=m )\n",
    "    plt.imshow(value, cmap='seismic')"
   ]
  },
  {
   "cell_type": "markdown",
   "id": "627ce875",
   "metadata": {},
   "source": [
    "# Collect performance results Using Resnet"
   ]
  },
  {
   "cell_type": "markdown",
   "id": "54959ff0",
   "metadata": {},
   "source": [
    "## Create dataframe to store results"
   ]
  },
  {
   "cell_type": "code",
   "execution_count": 116,
   "id": "e281aa94",
   "metadata": {},
   "outputs": [],
   "source": [
    "import pandas as pd\n",
    "import numpy as np"
   ]
  },
  {
   "cell_type": "code",
   "execution_count": 117,
   "id": "33f74c32",
   "metadata": {},
   "outputs": [],
   "source": [
    "columns =  ['y_label','y_A','y_prob_correct_A', 'y_prob_A', 'A','y_B','y_prob_correct_B', 'y_prob_B', 'B']\n",
    "dset_idxs = np.array(range(dset_size))\n",
    "results = pd.DataFrame(columns = columns, index = dset_idxs)"
   ]
  },
  {
   "cell_type": "code",
   "execution_count": 118,
   "id": "2b775cc0",
   "metadata": {},
   "outputs": [
    {
     "data": {
      "text/html": [
       "<div>\n",
       "<style scoped>\n",
       "    .dataframe tbody tr th:only-of-type {\n",
       "        vertical-align: middle;\n",
       "    }\n",
       "\n",
       "    .dataframe tbody tr th {\n",
       "        vertical-align: top;\n",
       "    }\n",
       "\n",
       "    .dataframe thead th {\n",
       "        text-align: right;\n",
       "    }\n",
       "</style>\n",
       "<table border=\"1\" class=\"dataframe\">\n",
       "  <thead>\n",
       "    <tr style=\"text-align: right;\">\n",
       "      <th></th>\n",
       "      <th>y_label</th>\n",
       "      <th>y_A</th>\n",
       "      <th>y_prob_correct_A</th>\n",
       "      <th>y_prob_A</th>\n",
       "      <th>A</th>\n",
       "      <th>y_B</th>\n",
       "      <th>y_prob_correct_B</th>\n",
       "      <th>y_prob_B</th>\n",
       "      <th>B</th>\n",
       "    </tr>\n",
       "  </thead>\n",
       "  <tbody>\n",
       "    <tr>\n",
       "      <th>0</th>\n",
       "      <td>NaN</td>\n",
       "      <td>NaN</td>\n",
       "      <td>NaN</td>\n",
       "      <td>NaN</td>\n",
       "      <td>NaN</td>\n",
       "      <td>NaN</td>\n",
       "      <td>NaN</td>\n",
       "      <td>NaN</td>\n",
       "      <td>NaN</td>\n",
       "    </tr>\n",
       "    <tr>\n",
       "      <th>1</th>\n",
       "      <td>NaN</td>\n",
       "      <td>NaN</td>\n",
       "      <td>NaN</td>\n",
       "      <td>NaN</td>\n",
       "      <td>NaN</td>\n",
       "      <td>NaN</td>\n",
       "      <td>NaN</td>\n",
       "      <td>NaN</td>\n",
       "      <td>NaN</td>\n",
       "    </tr>\n",
       "    <tr>\n",
       "      <th>2</th>\n",
       "      <td>NaN</td>\n",
       "      <td>NaN</td>\n",
       "      <td>NaN</td>\n",
       "      <td>NaN</td>\n",
       "      <td>NaN</td>\n",
       "      <td>NaN</td>\n",
       "      <td>NaN</td>\n",
       "      <td>NaN</td>\n",
       "      <td>NaN</td>\n",
       "    </tr>\n",
       "    <tr>\n",
       "      <th>3</th>\n",
       "      <td>NaN</td>\n",
       "      <td>NaN</td>\n",
       "      <td>NaN</td>\n",
       "      <td>NaN</td>\n",
       "      <td>NaN</td>\n",
       "      <td>NaN</td>\n",
       "      <td>NaN</td>\n",
       "      <td>NaN</td>\n",
       "      <td>NaN</td>\n",
       "    </tr>\n",
       "    <tr>\n",
       "      <th>4</th>\n",
       "      <td>NaN</td>\n",
       "      <td>NaN</td>\n",
       "      <td>NaN</td>\n",
       "      <td>NaN</td>\n",
       "      <td>NaN</td>\n",
       "      <td>NaN</td>\n",
       "      <td>NaN</td>\n",
       "      <td>NaN</td>\n",
       "      <td>NaN</td>\n",
       "    </tr>\n",
       "  </tbody>\n",
       "</table>\n",
       "</div>"
      ],
      "text/plain": [
       "  y_label  y_A y_prob_correct_A y_prob_A    A  y_B y_prob_correct_B y_prob_B  \\\n",
       "0     NaN  NaN              NaN      NaN  NaN  NaN              NaN      NaN   \n",
       "1     NaN  NaN              NaN      NaN  NaN  NaN              NaN      NaN   \n",
       "2     NaN  NaN              NaN      NaN  NaN  NaN              NaN      NaN   \n",
       "3     NaN  NaN              NaN      NaN  NaN  NaN              NaN      NaN   \n",
       "4     NaN  NaN              NaN      NaN  NaN  NaN              NaN      NaN   \n",
       "\n",
       "     B  \n",
       "0  NaN  \n",
       "1  NaN  \n",
       "2  NaN  \n",
       "3  NaN  \n",
       "4  NaN  "
      ]
     },
     "execution_count": 118,
     "metadata": {},
     "output_type": "execute_result"
    }
   ],
   "source": [
    "results.head()"
   ]
  },
  {
   "cell_type": "markdown",
   "id": "ab10ac43",
   "metadata": {},
   "source": [
    "## Collect data "
   ]
  },
  {
   "cell_type": "code",
   "execution_count": 128,
   "id": "3159ba38",
   "metadata": {},
   "outputs": [],
   "source": [
    "model_A = model_resnet\n",
    "model_B = model_vit"
   ]
  },
  {
   "cell_type": "code",
   "execution_count": 134,
   "id": "11151aa3",
   "metadata": {},
   "outputs": [],
   "source": [
    "def get_pred(dset, dset_size, idx, model, model_name, x, y):\n",
    "    y_pred = model(x).softmax(dim=1).detach()\n",
    "    y_pred_class = np.argmax(y_pred)\n",
    "\n",
    "    # store values\n",
    "\n",
    "    results.iloc[idx]['y_' + model_name] = y_pred_class.item()\n",
    "    results.iloc[idx]['y_prob_correct_' + model_name] = y_pred[0][y].item()\n",
    "    results.iloc[idx]['y_prob_' + model_name] = y_pred[0][y_pred_class.item()].item()\n",
    "\n",
    "    if (y == y_pred_class): \n",
    "        results.iloc[idx][model_name] = 1\n",
    "    else:\n",
    "        results.iloc[idx][model_name] = 0"
   ]
  },
  {
   "cell_type": "code",
   "execution_count": 135,
   "id": "5238e6cd",
   "metadata": {},
   "outputs": [],
   "source": [
    "def collect_data(dset, dset_size, results, model_A, model_B):\n",
    "    for idx in range(dset_size):\n",
    "        x, y = zip(*[dset[idx]])\n",
    "        x = torch.stack(x)\n",
    "        y = y[0]\n",
    "        \n",
    "        results.iloc[idx]['y_label'] = y\n",
    "        get_pred(dset, dset_size, idx, model_A, 'A', x, y)\n",
    "        get_pred(dset, dset_size, idx, model_B, 'B', x, y)"
   ]
  },
  {
   "cell_type": "code",
   "execution_count": 136,
   "id": "35351f0d",
   "metadata": {},
   "outputs": [],
   "source": [
    "def check_results(idx,  results):\n",
    "    x, y = zip(*[dset[idx]])\n",
    "    x = x[0]\n",
    "    y = y[0]\n",
    "    print(f'Label = {classes[y]}, {y}')\n",
    "    y_predicted = results.iloc[idx]['y_resnet_class'] \n",
    "    print(f'Predicted = {classes[y_predicted]} , {y_predicted}' )\n",
    "    plot_img(x)"
   ]
  },
  {
   "cell_type": "code",
   "execution_count": 137,
   "id": "f33b133e",
   "metadata": {},
   "outputs": [],
   "source": [
    "collect_data(dset, dset_size, results, model_A, model_B)"
   ]
  },
  {
   "cell_type": "code",
   "execution_count": 138,
   "id": "7957dde4",
   "metadata": {},
   "outputs": [
    {
     "data": {
      "text/html": [
       "<div>\n",
       "<style scoped>\n",
       "    .dataframe tbody tr th:only-of-type {\n",
       "        vertical-align: middle;\n",
       "    }\n",
       "\n",
       "    .dataframe tbody tr th {\n",
       "        vertical-align: top;\n",
       "    }\n",
       "\n",
       "    .dataframe thead th {\n",
       "        text-align: right;\n",
       "    }\n",
       "</style>\n",
       "<table border=\"1\" class=\"dataframe\">\n",
       "  <thead>\n",
       "    <tr style=\"text-align: right;\">\n",
       "      <th></th>\n",
       "      <th>y_label</th>\n",
       "      <th>y_A</th>\n",
       "      <th>y_prob_correct_A</th>\n",
       "      <th>y_prob_A</th>\n",
       "      <th>A</th>\n",
       "      <th>y_B</th>\n",
       "      <th>y_prob_correct_B</th>\n",
       "      <th>y_prob_B</th>\n",
       "      <th>B</th>\n",
       "    </tr>\n",
       "  </thead>\n",
       "  <tbody>\n",
       "    <tr>\n",
       "      <th>0</th>\n",
       "      <td>3</td>\n",
       "      <td>3</td>\n",
       "      <td>0.366576</td>\n",
       "      <td>0.366576</td>\n",
       "      <td>1</td>\n",
       "      <td>3</td>\n",
       "      <td>1.0</td>\n",
       "      <td>1.0</td>\n",
       "      <td>1</td>\n",
       "    </tr>\n",
       "    <tr>\n",
       "      <th>1</th>\n",
       "      <td>8</td>\n",
       "      <td>8</td>\n",
       "      <td>0.307475</td>\n",
       "      <td>0.307475</td>\n",
       "      <td>1</td>\n",
       "      <td>8</td>\n",
       "      <td>0.999998</td>\n",
       "      <td>0.999998</td>\n",
       "      <td>1</td>\n",
       "    </tr>\n",
       "    <tr>\n",
       "      <th>2</th>\n",
       "      <td>8</td>\n",
       "      <td>1</td>\n",
       "      <td>0.180506</td>\n",
       "      <td>0.241541</td>\n",
       "      <td>0</td>\n",
       "      <td>8</td>\n",
       "      <td>0.999936</td>\n",
       "      <td>0.999936</td>\n",
       "      <td>1</td>\n",
       "    </tr>\n",
       "    <tr>\n",
       "      <th>3</th>\n",
       "      <td>0</td>\n",
       "      <td>1</td>\n",
       "      <td>0.019308</td>\n",
       "      <td>0.37162</td>\n",
       "      <td>0</td>\n",
       "      <td>0</td>\n",
       "      <td>0.846047</td>\n",
       "      <td>0.846047</td>\n",
       "      <td>1</td>\n",
       "    </tr>\n",
       "    <tr>\n",
       "      <th>4</th>\n",
       "      <td>6</td>\n",
       "      <td>1</td>\n",
       "      <td>0.06216</td>\n",
       "      <td>0.321299</td>\n",
       "      <td>0</td>\n",
       "      <td>6</td>\n",
       "      <td>1.0</td>\n",
       "      <td>1.0</td>\n",
       "      <td>1</td>\n",
       "    </tr>\n",
       "    <tr>\n",
       "      <th>5</th>\n",
       "      <td>6</td>\n",
       "      <td>1</td>\n",
       "      <td>0.041133</td>\n",
       "      <td>0.551747</td>\n",
       "      <td>0</td>\n",
       "      <td>6</td>\n",
       "      <td>0.999997</td>\n",
       "      <td>0.999997</td>\n",
       "      <td>1</td>\n",
       "    </tr>\n",
       "    <tr>\n",
       "      <th>6</th>\n",
       "      <td>1</td>\n",
       "      <td>1</td>\n",
       "      <td>0.407426</td>\n",
       "      <td>0.407426</td>\n",
       "      <td>1</td>\n",
       "      <td>1</td>\n",
       "      <td>0.999943</td>\n",
       "      <td>0.999943</td>\n",
       "      <td>1</td>\n",
       "    </tr>\n",
       "    <tr>\n",
       "      <th>7</th>\n",
       "      <td>6</td>\n",
       "      <td>5</td>\n",
       "      <td>0.060609</td>\n",
       "      <td>0.264785</td>\n",
       "      <td>0</td>\n",
       "      <td>6</td>\n",
       "      <td>1.0</td>\n",
       "      <td>1.0</td>\n",
       "      <td>1</td>\n",
       "    </tr>\n",
       "    <tr>\n",
       "      <th>8</th>\n",
       "      <td>3</td>\n",
       "      <td>1</td>\n",
       "      <td>0.230295</td>\n",
       "      <td>0.233738</td>\n",
       "      <td>0</td>\n",
       "      <td>3</td>\n",
       "      <td>1.0</td>\n",
       "      <td>1.0</td>\n",
       "      <td>1</td>\n",
       "    </tr>\n",
       "    <tr>\n",
       "      <th>9</th>\n",
       "      <td>1</td>\n",
       "      <td>1</td>\n",
       "      <td>0.523663</td>\n",
       "      <td>0.523663</td>\n",
       "      <td>1</td>\n",
       "      <td>1</td>\n",
       "      <td>0.985912</td>\n",
       "      <td>0.985912</td>\n",
       "      <td>1</td>\n",
       "    </tr>\n",
       "  </tbody>\n",
       "</table>\n",
       "</div>"
      ],
      "text/plain": [
       "  y_label y_A y_prob_correct_A  y_prob_A  A y_B y_prob_correct_B  y_prob_B  B\n",
       "0       3   3         0.366576  0.366576  1   3              1.0       1.0  1\n",
       "1       8   8         0.307475  0.307475  1   8         0.999998  0.999998  1\n",
       "2       8   1         0.180506  0.241541  0   8         0.999936  0.999936  1\n",
       "3       0   1         0.019308   0.37162  0   0         0.846047  0.846047  1\n",
       "4       6   1          0.06216  0.321299  0   6              1.0       1.0  1\n",
       "5       6   1         0.041133  0.551747  0   6         0.999997  0.999997  1\n",
       "6       1   1         0.407426  0.407426  1   1         0.999943  0.999943  1\n",
       "7       6   5         0.060609  0.264785  0   6              1.0       1.0  1\n",
       "8       3   1         0.230295  0.233738  0   3              1.0       1.0  1\n",
       "9       1   1         0.523663  0.523663  1   1         0.985912  0.985912  1"
      ]
     },
     "execution_count": 138,
     "metadata": {},
     "output_type": "execute_result"
    }
   ],
   "source": [
    "results"
   ]
  },
  {
   "cell_type": "code",
   "execution_count": null,
   "id": "c0a31ff4",
   "metadata": {},
   "outputs": [],
   "source": []
  },
  {
   "cell_type": "code",
   "execution_count": null,
   "id": "80280ac0",
   "metadata": {},
   "outputs": [],
   "source": []
  }
 ],
 "metadata": {
  "kernelspec": {
   "display_name": "Python 3 (ipykernel)",
   "language": "python",
   "name": "python3"
  },
  "language_info": {
   "codemirror_mode": {
    "name": "ipython",
    "version": 3
   },
   "file_extension": ".py",
   "mimetype": "text/x-python",
   "name": "python",
   "nbconvert_exporter": "python",
   "pygments_lexer": "ipython3",
   "version": "3.7.13"
  }
 },
 "nbformat": 4,
 "nbformat_minor": 5
}
