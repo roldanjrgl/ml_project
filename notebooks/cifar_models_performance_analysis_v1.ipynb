{
 "cells": [
  {
   "cell_type": "markdown",
   "id": "7521f73b",
   "metadata": {},
   "source": [
    "# Load data"
   ]
  },
  {
   "cell_type": "code",
   "execution_count": 1,
   "id": "2ebc15ca",
   "metadata": {},
   "outputs": [],
   "source": [
    "import torchvision.datasets as dsets\n",
    "import torchvision.transforms as transforms"
   ]
  },
  {
   "cell_type": "code",
   "execution_count": 2,
   "id": "227b3452",
   "metadata": {},
   "outputs": [
    {
     "name": "stdout",
     "output_type": "stream",
     "text": [
      "Files already downloaded and verified\n",
      "Files already downloaded and verified\n"
     ]
    }
   ],
   "source": [
    "# Transformations\n",
    "transform_train = transforms.Compose([\n",
    "    transforms.RandomCrop(32, padding=4),\n",
    "    transforms.RandomHorizontalFlip(),\n",
    "    transforms.ToTensor(),\n",
    "    transforms.Normalize((0.4914, 0.4822, 0.4465), (0.2023, 0.1994, 0.2010)),\n",
    "])\n",
    "transform_test = transforms.Compose([\n",
    "    transforms.ToTensor(),\n",
    "    transforms.Normalize((0.4914, 0.4822, 0.4465), (0.2023, 0.1994, 0.2010)),\n",
    "])\n",
    "\n",
    "# Load train set\n",
    "train_set = dsets.CIFAR10('../', train=True, download=True, transform=transform_train)\n",
    "\n",
    "# Load test set (using as validation)\n",
    "val_set = dsets.CIFAR10('../', train=False, download=True, transform=transform_test)"
   ]
  },
  {
   "cell_type": "markdown",
   "id": "b0af5dd2",
   "metadata": {},
   "source": [
    "# Import Resnet Models"
   ]
  },
  {
   "cell_type": "code",
   "execution_count": 3,
   "id": "90259cea",
   "metadata": {},
   "outputs": [],
   "source": [
    "import torch\n",
    "import torch.nn as nn\n",
    "import torch.optim as optim\n",
    "import numpy as np\n",
    "import os.path\n",
    "from torch.utils.data import DataLoader\n",
    "from tqdm.auto import tqdm\n",
    "from copy import deepcopy\n",
    "from resnet import ResNet18"
   ]
  },
  {
   "cell_type": "code",
   "execution_count": 4,
   "id": "6aefaa9e",
   "metadata": {},
   "outputs": [],
   "source": [
    "# Select device\n",
    "# device = torch.device('cuda')\n",
    "device = torch.device('cpu')"
   ]
  },
  {
   "cell_type": "markdown",
   "id": "15f680b2",
   "metadata": {},
   "source": [
    "## Import Resnet model"
   ]
  },
  {
   "cell_type": "code",
   "execution_count": 5,
   "id": "8311f723",
   "metadata": {},
   "outputs": [
    {
     "name": "stdout",
     "output_type": "stream",
     "text": [
      "Loading saved model\n"
     ]
    }
   ],
   "source": [
    "# Check for model\n",
    "if os.path.isfile('cifar resnet.pt'):\n",
    "    # Load saved model\n",
    "    print('Loading saved model')\n",
    "    model_resnet = torch.load('cifar resnet.pt').to(device)\n",
    "else:\n",
    "    print('Model not available')"
   ]
  },
  {
   "cell_type": "markdown",
   "id": "1f716735",
   "metadata": {},
   "source": [
    "## Import surrogate"
   ]
  },
  {
   "cell_type": "code",
   "execution_count": 6,
   "id": "e143a345",
   "metadata": {},
   "outputs": [],
   "source": [
    "from fastshap import ImageSurrogate\n",
    "from fastshap.utils import MaskLayer2d, KLDivLoss, DatasetInputOnly"
   ]
  },
  {
   "cell_type": "code",
   "execution_count": 7,
   "id": "873b3ccf",
   "metadata": {},
   "outputs": [
    {
     "name": "stdout",
     "output_type": "stream",
     "text": [
      "Loading saved surrogate model\n"
     ]
    }
   ],
   "source": [
    "# Check for model\n",
    "if os.path.isfile('cifar surrogate.pt'):\n",
    "    print('Loading saved surrogate model')\n",
    "    surr = torch.load('cifar surrogate.pt').to(device)\n",
    "    surrogate = ImageSurrogate(surr, width=32, height=32, superpixel_size=2)\n",
    "\n",
    "else:\n",
    "    print('Model not available')"
   ]
  },
  {
   "cell_type": "markdown",
   "id": "e11bb0c7",
   "metadata": {},
   "source": [
    "## Import Explainer"
   ]
  },
  {
   "cell_type": "code",
   "execution_count": 8,
   "id": "ca5f640f",
   "metadata": {},
   "outputs": [],
   "source": [
    "from unet import UNet\n",
    "from fastshap import FastSHAP"
   ]
  },
  {
   "cell_type": "code",
   "execution_count": 9,
   "id": "71acd881",
   "metadata": {},
   "outputs": [
    {
     "name": "stdout",
     "output_type": "stream",
     "text": [
      "Loading saved explainer model\n"
     ]
    }
   ],
   "source": [
    "# Check for model\n",
    "if os.path.isfile('cifar explainer.pt'):\n",
    "    print('Loading saved explainer model')\n",
    "    explainer = torch.load('cifar explainer.pt').to(device)\n",
    "    fastshap = FastSHAP(explainer, surrogate, link=nn.LogSoftmax(dim=1))\n",
    "\n",
    "else:\n",
    "    print('Model not available')"
   ]
  },
  {
   "cell_type": "markdown",
   "id": "aabdddd5",
   "metadata": {},
   "source": [
    "# Initialize dataset"
   ]
  },
  {
   "cell_type": "code",
   "execution_count": 100,
   "id": "073f69fa",
   "metadata": {},
   "outputs": [],
   "source": [
    "dset = val_set\n",
    "# dset_size = 10000\n",
    "dset_size = 20\n",
    "targets = np.array(dset.targets)\n",
    "num_classes = targets.max() + 1\n",
    "classes = ['Airplane', 'Car', 'Bird', 'Cat', 'Deer', 'Dog', 'Frog', 'Horse', 'Ship', 'Truck']"
   ]
  },
  {
   "cell_type": "markdown",
   "id": "9db0df63",
   "metadata": {},
   "source": [
    "# Plot individual images and values"
   ]
  },
  {
   "cell_type": "code",
   "execution_count": 101,
   "id": "e154de46",
   "metadata": {},
   "outputs": [],
   "source": [
    "import matplotlib.pyplot as plt"
   ]
  },
  {
   "cell_type": "code",
   "execution_count": 102,
   "id": "d0e89002",
   "metadata": {},
   "outputs": [],
   "source": [
    "def plot_img(x):\n",
    "    mean = np.array([0.4914, 0.4822, 0.4465])[:, np.newaxis, np.newaxis]\n",
    "    std = np.array([0.2023, 0.1994, 0.2010])[:, np.newaxis, np.newaxis]\n",
    "    im = x.numpy() * std + mean    \n",
    "    im = im.transpose(1, 2, 0).astype(float)\n",
    "    im = np.clip(im, a_min=0, a_max=1)\n",
    "    plt.imshow(im, vmin=0, vmax=1)\n",
    "    plt.show()"
   ]
  },
  {
   "cell_type": "code",
   "execution_count": 103,
   "id": "3dd2811e",
   "metadata": {},
   "outputs": [],
   "source": [
    "def plot_values(value):\n",
    "#     plt.imshow(value, cmap='seismic',vmin=-m, vmax=m )\n",
    "    plt.imshow(value, cmap='seismic')"
   ]
  },
  {
   "cell_type": "markdown",
   "id": "ab43f281",
   "metadata": {},
   "source": [
    "# Collect performance results Using Resnet"
   ]
  },
  {
   "cell_type": "markdown",
   "id": "3e2c2afe",
   "metadata": {},
   "source": [
    "## Create dataframe to store results"
   ]
  },
  {
   "cell_type": "code",
   "execution_count": 104,
   "id": "40d49188",
   "metadata": {},
   "outputs": [],
   "source": [
    "import pandas as pd\n",
    "import numpy as np"
   ]
  },
  {
   "cell_type": "code",
   "execution_count": 105,
   "id": "3ac11121",
   "metadata": {},
   "outputs": [],
   "source": [
    "columns =  ['y_label','y_resnet_class', 'y_resnet_prob', 'resnet_correct']\n",
    "dset_idxs = np.array(range(dset_size))\n",
    "results = pd.DataFrame(columns = columns, index = dset_idxs)"
   ]
  },
  {
   "cell_type": "code",
   "execution_count": 106,
   "id": "8bc8ebdc",
   "metadata": {},
   "outputs": [
    {
     "data": {
      "text/html": [
       "<div>\n",
       "<style scoped>\n",
       "    .dataframe tbody tr th:only-of-type {\n",
       "        vertical-align: middle;\n",
       "    }\n",
       "\n",
       "    .dataframe tbody tr th {\n",
       "        vertical-align: top;\n",
       "    }\n",
       "\n",
       "    .dataframe thead th {\n",
       "        text-align: right;\n",
       "    }\n",
       "</style>\n",
       "<table border=\"1\" class=\"dataframe\">\n",
       "  <thead>\n",
       "    <tr style=\"text-align: right;\">\n",
       "      <th></th>\n",
       "      <th>y_label</th>\n",
       "      <th>y_resnet_class</th>\n",
       "      <th>y_resnet_prob</th>\n",
       "      <th>resnet_correct</th>\n",
       "    </tr>\n",
       "  </thead>\n",
       "  <tbody>\n",
       "    <tr>\n",
       "      <th>0</th>\n",
       "      <td>NaN</td>\n",
       "      <td>NaN</td>\n",
       "      <td>NaN</td>\n",
       "      <td>NaN</td>\n",
       "    </tr>\n",
       "    <tr>\n",
       "      <th>1</th>\n",
       "      <td>NaN</td>\n",
       "      <td>NaN</td>\n",
       "      <td>NaN</td>\n",
       "      <td>NaN</td>\n",
       "    </tr>\n",
       "    <tr>\n",
       "      <th>2</th>\n",
       "      <td>NaN</td>\n",
       "      <td>NaN</td>\n",
       "      <td>NaN</td>\n",
       "      <td>NaN</td>\n",
       "    </tr>\n",
       "    <tr>\n",
       "      <th>3</th>\n",
       "      <td>NaN</td>\n",
       "      <td>NaN</td>\n",
       "      <td>NaN</td>\n",
       "      <td>NaN</td>\n",
       "    </tr>\n",
       "    <tr>\n",
       "      <th>4</th>\n",
       "      <td>NaN</td>\n",
       "      <td>NaN</td>\n",
       "      <td>NaN</td>\n",
       "      <td>NaN</td>\n",
       "    </tr>\n",
       "  </tbody>\n",
       "</table>\n",
       "</div>"
      ],
      "text/plain": [
       "  y_label y_resnet_class y_resnet_prob resnet_correct\n",
       "0     NaN            NaN           NaN            NaN\n",
       "1     NaN            NaN           NaN            NaN\n",
       "2     NaN            NaN           NaN            NaN\n",
       "3     NaN            NaN           NaN            NaN\n",
       "4     NaN            NaN           NaN            NaN"
      ]
     },
     "execution_count": 106,
     "metadata": {},
     "output_type": "execute_result"
    }
   ],
   "source": [
    "results.head()"
   ]
  },
  {
   "cell_type": "markdown",
   "id": "96c7133e",
   "metadata": {},
   "source": [
    "## Collect data "
   ]
  },
  {
   "cell_type": "code",
   "execution_count": 107,
   "id": "7537a145",
   "metadata": {},
   "outputs": [],
   "source": [
    "for idx in range(dset_size):\n",
    "    x, y = zip(*[dset[idx]])\n",
    "    x = torch.stack(x)\n",
    "    y = y[0]\n",
    "    y_pred = model_resnet(x).softmax(dim=1).detach()\n",
    "    y_pred_class = np.argmax(y_pred)\n",
    "    \n",
    "    # store values\n",
    "    results.iloc[idx]['y_label'] = y\n",
    "    results.iloc[idx]['y_resnet_class'] = y_pred_class.item()\n",
    "    results.iloc[idx]['y_resnet_prob'] = y_pred[0][y_pred_class.item()].item()\n",
    "    if (y == y_pred_class): \n",
    "        results.iloc[idx]['resnet_correct'] = 1\n",
    "    else:\n",
    "         results.iloc[idx]['resnet_correct'] = 0\n"
   ]
  },
  {
   "cell_type": "code",
   "execution_count": 108,
   "id": "2e75c246",
   "metadata": {},
   "outputs": [
    {
     "data": {
      "text/plain": [
       "tensor(0.0445)"
      ]
     },
     "execution_count": 108,
     "metadata": {},
     "output_type": "execute_result"
    }
   ],
   "source": [
    "y_pred[0][3]"
   ]
  },
  {
   "cell_type": "code",
   "execution_count": 110,
   "id": "9052adb8",
   "metadata": {},
   "outputs": [
    {
     "data": {
      "text/html": [
       "<div>\n",
       "<style scoped>\n",
       "    .dataframe tbody tr th:only-of-type {\n",
       "        vertical-align: middle;\n",
       "    }\n",
       "\n",
       "    .dataframe tbody tr th {\n",
       "        vertical-align: top;\n",
       "    }\n",
       "\n",
       "    .dataframe thead th {\n",
       "        text-align: right;\n",
       "    }\n",
       "</style>\n",
       "<table border=\"1\" class=\"dataframe\">\n",
       "  <thead>\n",
       "    <tr style=\"text-align: right;\">\n",
       "      <th></th>\n",
       "      <th>y_label</th>\n",
       "      <th>y_resnet_class</th>\n",
       "      <th>y_resnet_prob</th>\n",
       "      <th>resnet_correct</th>\n",
       "    </tr>\n",
       "  </thead>\n",
       "  <tbody>\n",
       "    <tr>\n",
       "      <th>0</th>\n",
       "      <td>3</td>\n",
       "      <td>3</td>\n",
       "      <td>0.366576</td>\n",
       "      <td>1</td>\n",
       "    </tr>\n",
       "    <tr>\n",
       "      <th>1</th>\n",
       "      <td>8</td>\n",
       "      <td>8</td>\n",
       "      <td>0.307475</td>\n",
       "      <td>1</td>\n",
       "    </tr>\n",
       "    <tr>\n",
       "      <th>2</th>\n",
       "      <td>8</td>\n",
       "      <td>1</td>\n",
       "      <td>0.241541</td>\n",
       "      <td>0</td>\n",
       "    </tr>\n",
       "    <tr>\n",
       "      <th>3</th>\n",
       "      <td>0</td>\n",
       "      <td>1</td>\n",
       "      <td>0.37162</td>\n",
       "      <td>0</td>\n",
       "    </tr>\n",
       "    <tr>\n",
       "      <th>4</th>\n",
       "      <td>6</td>\n",
       "      <td>1</td>\n",
       "      <td>0.321299</td>\n",
       "      <td>0</td>\n",
       "    </tr>\n",
       "    <tr>\n",
       "      <th>5</th>\n",
       "      <td>6</td>\n",
       "      <td>1</td>\n",
       "      <td>0.551747</td>\n",
       "      <td>0</td>\n",
       "    </tr>\n",
       "    <tr>\n",
       "      <th>6</th>\n",
       "      <td>1</td>\n",
       "      <td>1</td>\n",
       "      <td>0.407426</td>\n",
       "      <td>1</td>\n",
       "    </tr>\n",
       "    <tr>\n",
       "      <th>7</th>\n",
       "      <td>6</td>\n",
       "      <td>5</td>\n",
       "      <td>0.264785</td>\n",
       "      <td>0</td>\n",
       "    </tr>\n",
       "    <tr>\n",
       "      <th>8</th>\n",
       "      <td>3</td>\n",
       "      <td>1</td>\n",
       "      <td>0.233738</td>\n",
       "      <td>0</td>\n",
       "    </tr>\n",
       "    <tr>\n",
       "      <th>9</th>\n",
       "      <td>1</td>\n",
       "      <td>1</td>\n",
       "      <td>0.523663</td>\n",
       "      <td>1</td>\n",
       "    </tr>\n",
       "  </tbody>\n",
       "</table>\n",
       "</div>"
      ],
      "text/plain": [
       "  y_label y_resnet_class y_resnet_prob resnet_correct\n",
       "0       3              3      0.366576              1\n",
       "1       8              8      0.307475              1\n",
       "2       8              1      0.241541              0\n",
       "3       0              1       0.37162              0\n",
       "4       6              1      0.321299              0\n",
       "5       6              1      0.551747              0\n",
       "6       1              1      0.407426              1\n",
       "7       6              5      0.264785              0\n",
       "8       3              1      0.233738              0\n",
       "9       1              1      0.523663              1"
      ]
     },
     "execution_count": 110,
     "metadata": {},
     "output_type": "execute_result"
    }
   ],
   "source": [
    "results.head(10)"
   ]
  },
  {
   "cell_type": "code",
   "execution_count": 112,
   "id": "3c5deb6c",
   "metadata": {},
   "outputs": [],
   "source": [
    "wrong_results = results[results['resnet_correct'] == 0]"
   ]
  },
  {
   "cell_type": "code",
   "execution_count": 113,
   "id": "6a037fe6",
   "metadata": {},
   "outputs": [
    {
     "data": {
      "text/html": [
       "<div>\n",
       "<style scoped>\n",
       "    .dataframe tbody tr th:only-of-type {\n",
       "        vertical-align: middle;\n",
       "    }\n",
       "\n",
       "    .dataframe tbody tr th {\n",
       "        vertical-align: top;\n",
       "    }\n",
       "\n",
       "    .dataframe thead th {\n",
       "        text-align: right;\n",
       "    }\n",
       "</style>\n",
       "<table border=\"1\" class=\"dataframe\">\n",
       "  <thead>\n",
       "    <tr style=\"text-align: right;\">\n",
       "      <th></th>\n",
       "      <th>y_label</th>\n",
       "      <th>y_resnet_class</th>\n",
       "      <th>y_resnet_prob</th>\n",
       "      <th>resnet_correct</th>\n",
       "    </tr>\n",
       "  </thead>\n",
       "  <tbody>\n",
       "    <tr>\n",
       "      <th>2</th>\n",
       "      <td>8</td>\n",
       "      <td>1</td>\n",
       "      <td>0.241541</td>\n",
       "      <td>0</td>\n",
       "    </tr>\n",
       "    <tr>\n",
       "      <th>3</th>\n",
       "      <td>0</td>\n",
       "      <td>1</td>\n",
       "      <td>0.37162</td>\n",
       "      <td>0</td>\n",
       "    </tr>\n",
       "    <tr>\n",
       "      <th>4</th>\n",
       "      <td>6</td>\n",
       "      <td>1</td>\n",
       "      <td>0.321299</td>\n",
       "      <td>0</td>\n",
       "    </tr>\n",
       "    <tr>\n",
       "      <th>5</th>\n",
       "      <td>6</td>\n",
       "      <td>1</td>\n",
       "      <td>0.551747</td>\n",
       "      <td>0</td>\n",
       "    </tr>\n",
       "    <tr>\n",
       "      <th>7</th>\n",
       "      <td>6</td>\n",
       "      <td>5</td>\n",
       "      <td>0.264785</td>\n",
       "      <td>0</td>\n",
       "    </tr>\n",
       "    <tr>\n",
       "      <th>8</th>\n",
       "      <td>3</td>\n",
       "      <td>1</td>\n",
       "      <td>0.233738</td>\n",
       "      <td>0</td>\n",
       "    </tr>\n",
       "    <tr>\n",
       "      <th>10</th>\n",
       "      <td>0</td>\n",
       "      <td>1</td>\n",
       "      <td>0.239549</td>\n",
       "      <td>0</td>\n",
       "    </tr>\n",
       "    <tr>\n",
       "      <th>13</th>\n",
       "      <td>7</td>\n",
       "      <td>9</td>\n",
       "      <td>0.243251</td>\n",
       "      <td>0</td>\n",
       "    </tr>\n",
       "    <tr>\n",
       "      <th>15</th>\n",
       "      <td>8</td>\n",
       "      <td>1</td>\n",
       "      <td>0.310444</td>\n",
       "      <td>0</td>\n",
       "    </tr>\n",
       "    <tr>\n",
       "      <th>16</th>\n",
       "      <td>5</td>\n",
       "      <td>1</td>\n",
       "      <td>0.219672</td>\n",
       "      <td>0</td>\n",
       "    </tr>\n",
       "    <tr>\n",
       "      <th>17</th>\n",
       "      <td>7</td>\n",
       "      <td>9</td>\n",
       "      <td>0.405722</td>\n",
       "      <td>0</td>\n",
       "    </tr>\n",
       "    <tr>\n",
       "      <th>19</th>\n",
       "      <td>6</td>\n",
       "      <td>1</td>\n",
       "      <td>0.356351</td>\n",
       "      <td>0</td>\n",
       "    </tr>\n",
       "  </tbody>\n",
       "</table>\n",
       "</div>"
      ],
      "text/plain": [
       "   y_label y_resnet_class y_resnet_prob resnet_correct\n",
       "2        8              1      0.241541              0\n",
       "3        0              1       0.37162              0\n",
       "4        6              1      0.321299              0\n",
       "5        6              1      0.551747              0\n",
       "7        6              5      0.264785              0\n",
       "8        3              1      0.233738              0\n",
       "10       0              1      0.239549              0\n",
       "13       7              9      0.243251              0\n",
       "15       8              1      0.310444              0\n",
       "16       5              1      0.219672              0\n",
       "17       7              9      0.405722              0\n",
       "19       6              1      0.356351              0"
      ]
     },
     "execution_count": 113,
     "metadata": {},
     "output_type": "execute_result"
    }
   ],
   "source": [
    "wrong_results"
   ]
  },
  {
   "cell_type": "code",
   "execution_count": 136,
   "id": "00563e51",
   "metadata": {},
   "outputs": [],
   "source": [
    "def check_results(idx,  results):\n",
    "    x, y = zip(*[dset[idx]])\n",
    "    x = x[0]\n",
    "    y = y[0]\n",
    "    print(f'Label = {classes[y]}, {y}')\n",
    "    y_predicted = results.iloc[idx]['y_resnet_class'] \n",
    "    print(f'Predicted = {classes[y_predicted]} , {y_predicted}' )\n",
    "    plot_img(x)"
   ]
  },
  {
   "cell_type": "code",
   "execution_count": 140,
   "id": "6cd37194",
   "metadata": {},
   "outputs": [
    {
     "name": "stdout",
     "output_type": "stream",
     "text": [
      "Label = Horse, 7\n",
      "Predicted = Truck , 9\n"
     ]
    },
    {
     "data": {
      "image/png": "[encoded data removed]",
      "text/plain": [
       "<Figure size 432x288 with 1 Axes>"
      ]
     },
     "metadata": {
      "needs_background": "light"
     },
     "output_type": "display_data"
    }
   ],
   "source": [
    "idx = 17\n",
    "check_results(idx, results)"
   ]
  },
  {
   "cell_type": "code",
   "execution_count": null,
   "id": "1503ed12",
   "metadata": {},
   "outputs": [],
   "source": []
  }
 ],
 "metadata": {
  "kernelspec": {
   "display_name": "Python 3 (ipykernel)",
   "language": "python",
   "name": "python3"
  },
  "language_info": {
   "codemirror_mode": {
    "name": "ipython",
    "version": 3
   },
   "file_extension": ".py",
   "mimetype": "text/x-python",
   "name": "python",
   "nbconvert_exporter": "python",
   "pygments_lexer": "ipython3",
   "version": "3.7.13"
  }
 },
 "nbformat": 4,
 "nbformat_minor": 5
}
