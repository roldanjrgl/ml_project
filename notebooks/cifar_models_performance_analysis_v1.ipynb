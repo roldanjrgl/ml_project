{
 "cells": [
  {
   "cell_type": "markdown",
   "id": "7521f73b",
   "metadata": {},
   "source": [
    "# Load data"
   ]
  },
  {
   "cell_type": "code",
   "execution_count": 1,
   "id": "2ebc15ca",
   "metadata": {},
   "outputs": [],
   "source": [
    "import torchvision.datasets as dsets\n",
    "import torchvision.transforms as transforms"
   ]
  },
  {
   "cell_type": "code",
   "execution_count": 3,
   "id": "227b3452",
   "metadata": {},
   "outputs": [
    {
     "name": "stdout",
     "output_type": "stream",
     "text": [
      "Files already downloaded and verified\n",
      "Files already downloaded and verified\n"
     ]
    }
   ],
   "source": [
    "# Transformations\n",
    "transform_train = transforms.Compose([\n",
    "    transforms.RandomCrop(32, padding=4),\n",
    "    transforms.RandomHorizontalFlip(),\n",
    "    transforms.ToTensor(),\n",
    "    transforms.Normalize((0.4914, 0.4822, 0.4465), (0.2023, 0.1994, 0.2010)),\n",
    "])\n",
    "transform_test = transforms.Compose([\n",
    "    transforms.ToTensor(),\n",
    "    transforms.Normalize((0.4914, 0.4822, 0.4465), (0.2023, 0.1994, 0.2010)),\n",
    "])\n",
    "\n",
    "# Load train set\n",
    "train_set = dsets.CIFAR10('../', train=True, download=True, transform=transform_train)\n",
    "\n",
    "# Load test set (using as validation)\n",
    "val_set = dsets.CIFAR10('../', train=False, download=True, transform=transform_test)"
   ]
  },
  {
   "cell_type": "markdown",
   "id": "b0af5dd2",
   "metadata": {},
   "source": [
    "# Import Resnet Models\n",
    "----"
   ]
  },
  {
   "cell_type": "code",
   "execution_count": 4,
   "id": "90259cea",
   "metadata": {},
   "outputs": [],
   "source": [
    "import torch\n",
    "import torch.nn as nn\n",
    "import torch.optim as optim\n",
    "import numpy as np\n",
    "import os.path\n",
    "from torch.utils.data import DataLoader\n",
    "from tqdm.auto import tqdm\n",
    "from copy import deepcopy\n",
    "from resnet import ResNet18"
   ]
  },
  {
   "cell_type": "code",
   "execution_count": 5,
   "id": "6aefaa9e",
   "metadata": {},
   "outputs": [],
   "source": [
    "# Select device\n",
    "# device = torch.device('cuda')\n",
    "device = torch.device('cpu')"
   ]
  },
  {
   "cell_type": "markdown",
   "id": "15f680b2",
   "metadata": {},
   "source": [
    "## Import Resnet model"
   ]
  },
  {
   "cell_type": "code",
   "execution_count": 6,
   "id": "8311f723",
   "metadata": {},
   "outputs": [
    {
     "name": "stdout",
     "output_type": "stream",
     "text": [
      "Loading saved model\n"
     ]
    }
   ],
   "source": [
    "# Check for model\n",
    "if os.path.isfile('cifar resnet.pt'):\n",
    "    # Load saved model\n",
    "    print('Loading saved model')\n",
    "    model_resnet = torch.load('cifar resnet.pt').to(device)\n",
    "else:\n",
    "    print('Model not available')"
   ]
  },
  {
   "cell_type": "markdown",
   "id": "1f716735",
   "metadata": {},
   "source": [
    "## Import surrogate"
   ]
  },
  {
   "cell_type": "code",
   "execution_count": 7,
   "id": "e143a345",
   "metadata": {},
   "outputs": [],
   "source": [
    "from fastshap import ImageSurrogate\n",
    "from fastshap.utils import MaskLayer2d, KLDivLoss, DatasetInputOnly"
   ]
  },
  {
   "cell_type": "code",
   "execution_count": 8,
   "id": "873b3ccf",
   "metadata": {},
   "outputs": [
    {
     "name": "stdout",
     "output_type": "stream",
     "text": [
      "Loading saved surrogate model\n"
     ]
    }
   ],
   "source": [
    "# Check for model\n",
    "if os.path.isfile('cifar surrogate.pt'):\n",
    "    print('Loading saved surrogate model')\n",
    "    surr = torch.load('cifar surrogate.pt').to(device)\n",
    "    surrogate = ImageSurrogate(surr, width=32, height=32, superpixel_size=2)\n",
    "\n",
    "else:\n",
    "    print('Model not available')"
   ]
  },
  {
   "cell_type": "markdown",
   "id": "e11bb0c7",
   "metadata": {},
   "source": [
    "## Import Explainer"
   ]
  },
  {
   "cell_type": "code",
   "execution_count": 9,
   "id": "ca5f640f",
   "metadata": {},
   "outputs": [],
   "source": [
    "from unet import UNet\n",
    "from fastshap import FastSHAP"
   ]
  },
  {
   "cell_type": "code",
   "execution_count": 10,
   "id": "71acd881",
   "metadata": {},
   "outputs": [
    {
     "name": "stdout",
     "output_type": "stream",
     "text": [
      "Loading saved explainer model\n"
     ]
    }
   ],
   "source": [
    "# Check for model\n",
    "if os.path.isfile('cifar explainer.pt'):\n",
    "    print('Loading saved explainer model')\n",
    "    explainer = torch.load('cifar explainer.pt').to(device)\n",
    "    fastshap = FastSHAP(explainer, surrogate, link=nn.LogSoftmax(dim=1))\n",
    "\n",
    "else:\n",
    "    print('Model not available')"
   ]
  },
  {
   "cell_type": "markdown",
   "id": "04ebd2a5",
   "metadata": {},
   "source": [
    "# Import Vit Models\n",
    "-----"
   ]
  },
  {
   "cell_type": "markdown",
   "id": "f61c8fd2",
   "metadata": {},
   "source": [
    "## Import Vit Model"
   ]
  },
  {
   "cell_type": "code",
   "execution_count": 29,
   "id": "3d504f0f",
   "metadata": {},
   "outputs": [],
   "source": [
    "from vit import ViT\n",
    "model_path = 'cifar_c10_vit.pt'"
   ]
  },
  {
   "cell_type": "code",
   "execution_count": 30,
   "id": "eceea89e",
   "metadata": {},
   "outputs": [
    {
     "name": "stdout",
     "output_type": "stream",
     "text": [
      "Loading saved model\n"
     ]
    }
   ],
   "source": [
    "if os.path.isfile(model_path):\n",
    "    # load saved model\n",
    "    print(\"Loading saved model\")\n",
    "    model_vit = torch.load(model_path).to(device)\n",
    "else:\n",
    "    print('Model not available')"
   ]
  },
  {
   "cell_type": "code",
   "execution_count": 31,
   "id": "2ab0515a",
   "metadata": {},
   "outputs": [],
   "source": [
    "torch.save(model.cpu(), model_path)"
   ]
  },
  {
   "cell_type": "markdown",
   "id": "fad1e43f",
   "metadata": {},
   "source": [
    "## Import surrogates"
   ]
  },
  {
   "cell_type": "code",
   "execution_count": 15,
   "id": "5ff9508c",
   "metadata": {},
   "outputs": [],
   "source": [
    "from fastshap import ImageSurrogate\n",
    "from fastshap.utils import MaskLayer2d, DatasetInputOnly, KLDivLoss"
   ]
  },
  {
   "cell_type": "code",
   "execution_count": 16,
   "id": "108624d9",
   "metadata": {},
   "outputs": [],
   "source": [
    "surr_model_path = 'cifar_c10_vit_surrogate_lb20.pt'"
   ]
  },
  {
   "cell_type": "code",
   "execution_count": 17,
   "id": "9c2c6e3d",
   "metadata": {},
   "outputs": [
    {
     "name": "stdout",
     "output_type": "stream",
     "text": [
      "Loading saved surrogate model\n"
     ]
    }
   ],
   "source": [
    "# Check for model\n",
    "if os.path.isfile(surr_model_path):\n",
    "    print('Loading saved surrogate model')\n",
    "    surr = torch.load(surr_model_path).to(device)\n",
    "    surrogate = ImageSurrogate(surr, width=32, height=32, superpixel_size=2)\n",
    "else:\n",
    "    print('Model not available')"
   ]
  },
  {
   "cell_type": "markdown",
   "id": "78d77c45",
   "metadata": {},
   "source": [
    "## Import explainer"
   ]
  },
  {
   "cell_type": "code",
   "execution_count": 18,
   "id": "171e3355",
   "metadata": {},
   "outputs": [],
   "source": [
    "from unet import UNet\n",
    "from fastshap import FastSHAP"
   ]
  },
  {
   "cell_type": "code",
   "execution_count": 19,
   "id": "13c8c4a7",
   "metadata": {},
   "outputs": [],
   "source": [
    "explainer_path = 'cifar_explainer_unet_lb20.pt'"
   ]
  },
  {
   "cell_type": "code",
   "execution_count": 20,
   "id": "6bcc8ee1",
   "metadata": {},
   "outputs": [
    {
     "name": "stdout",
     "output_type": "stream",
     "text": [
      "Loading saved explainer model\n"
     ]
    }
   ],
   "source": [
    "# Check for model\n",
    "if os.path.isfile(explainer_path):\n",
    "    print('Loading saved explainer model')\n",
    "    explainer = torch.load(explainer_path).to(device)\n",
    "    fastshap = FastSHAP(explainer, surrogate, link=nn.LogSoftmax(dim=1))\n",
    "\n",
    "else:\n",
    "    print('Model not available')"
   ]
  },
  {
   "cell_type": "markdown",
   "id": "b3de0361",
   "metadata": {},
   "source": [
    "# Initialize dataset"
   ]
  },
  {
   "cell_type": "code",
   "execution_count": 210,
   "id": "8684e82b",
   "metadata": {},
   "outputs": [],
   "source": [
    "dset = val_set\n",
    "dset_size = 300\n",
    "# dset_size = 10\n",
    "targets = np.array(dset.targets)\n",
    "num_classes = targets.max() + 1\n",
    "classes = ['Airplane', 'Car', 'Bird', 'Cat', 'Deer', 'Dog', 'Frog', 'Horse', 'Ship', 'Truck']"
   ]
  },
  {
   "cell_type": "markdown",
   "id": "f6f218e6",
   "metadata": {},
   "source": [
    "# Plot individual images and values"
   ]
  },
  {
   "cell_type": "code",
   "execution_count": 211,
   "id": "a5ba217a",
   "metadata": {},
   "outputs": [],
   "source": [
    "import matplotlib.pyplot as plt"
   ]
  },
  {
   "cell_type": "code",
   "execution_count": 212,
   "id": "a27c7d4c",
   "metadata": {},
   "outputs": [],
   "source": [
    "def plot_img(x):\n",
    "    mean = np.array([0.4914, 0.4822, 0.4465])[:, np.newaxis, np.newaxis]\n",
    "    std = np.array([0.2023, 0.1994, 0.2010])[:, np.newaxis, np.newaxis]\n",
    "    im = x.numpy() * std + mean    \n",
    "    im = im.transpose(1, 2, 0).astype(float)\n",
    "    im = np.clip(im, a_min=0, a_max=1)\n",
    "    plt.imshow(im, vmin=0, vmax=1)\n",
    "    plt.show()"
   ]
  },
  {
   "cell_type": "code",
   "execution_count": 213,
   "id": "8ab0af05",
   "metadata": {},
   "outputs": [],
   "source": [
    "def plot_values(value):\n",
    "#     plt.imshow(value, cmap='seismic',vmin=-m, vmax=m )\n",
    "    plt.imshow(value, cmap='seismic')"
   ]
  },
  {
   "cell_type": "markdown",
   "id": "bf54ac63",
   "metadata": {},
   "source": [
    "# Collect performance results Using Resnet"
   ]
  },
  {
   "cell_type": "markdown",
   "id": "714088c9",
   "metadata": {},
   "source": [
    "## Create dataframe to store results"
   ]
  },
  {
   "cell_type": "code",
   "execution_count": 214,
   "id": "61d51f38",
   "metadata": {},
   "outputs": [],
   "source": [
    "import pandas as pd\n",
    "import numpy as np"
   ]
  },
  {
   "cell_type": "code",
   "execution_count": 215,
   "id": "a0f12437",
   "metadata": {},
   "outputs": [],
   "source": [
    "columns =  ['y_label','y_A','y_prob_correct_A', 'y_prob_A', 'A','y_B','y_prob_correct_B', 'y_prob_B', 'B']\n",
    "dset_idxs = np.array(range(dset_size))\n",
    "results = pd.DataFrame(columns = columns, index = dset_idxs)"
   ]
  },
  {
   "cell_type": "code",
   "execution_count": 216,
   "id": "0c6b6d24",
   "metadata": {},
   "outputs": [
    {
     "data": {
      "text/html": [
       "<div>\n",
       "<style scoped>\n",
       "    .dataframe tbody tr th:only-of-type {\n",
       "        vertical-align: middle;\n",
       "    }\n",
       "\n",
       "    .dataframe tbody tr th {\n",
       "        vertical-align: top;\n",
       "    }\n",
       "\n",
       "    .dataframe thead th {\n",
       "        text-align: right;\n",
       "    }\n",
       "</style>\n",
       "<table border=\"1\" class=\"dataframe\">\n",
       "  <thead>\n",
       "    <tr style=\"text-align: right;\">\n",
       "      <th></th>\n",
       "      <th>y_label</th>\n",
       "      <th>y_A</th>\n",
       "      <th>y_prob_correct_A</th>\n",
       "      <th>y_prob_A</th>\n",
       "      <th>A</th>\n",
       "      <th>y_B</th>\n",
       "      <th>y_prob_correct_B</th>\n",
       "      <th>y_prob_B</th>\n",
       "      <th>B</th>\n",
       "    </tr>\n",
       "  </thead>\n",
       "  <tbody>\n",
       "    <tr>\n",
       "      <th>0</th>\n",
       "      <td>NaN</td>\n",
       "      <td>NaN</td>\n",
       "      <td>NaN</td>\n",
       "      <td>NaN</td>\n",
       "      <td>NaN</td>\n",
       "      <td>NaN</td>\n",
       "      <td>NaN</td>\n",
       "      <td>NaN</td>\n",
       "      <td>NaN</td>\n",
       "    </tr>\n",
       "    <tr>\n",
       "      <th>1</th>\n",
       "      <td>NaN</td>\n",
       "      <td>NaN</td>\n",
       "      <td>NaN</td>\n",
       "      <td>NaN</td>\n",
       "      <td>NaN</td>\n",
       "      <td>NaN</td>\n",
       "      <td>NaN</td>\n",
       "      <td>NaN</td>\n",
       "      <td>NaN</td>\n",
       "    </tr>\n",
       "    <tr>\n",
       "      <th>2</th>\n",
       "      <td>NaN</td>\n",
       "      <td>NaN</td>\n",
       "      <td>NaN</td>\n",
       "      <td>NaN</td>\n",
       "      <td>NaN</td>\n",
       "      <td>NaN</td>\n",
       "      <td>NaN</td>\n",
       "      <td>NaN</td>\n",
       "      <td>NaN</td>\n",
       "    </tr>\n",
       "    <tr>\n",
       "      <th>3</th>\n",
       "      <td>NaN</td>\n",
       "      <td>NaN</td>\n",
       "      <td>NaN</td>\n",
       "      <td>NaN</td>\n",
       "      <td>NaN</td>\n",
       "      <td>NaN</td>\n",
       "      <td>NaN</td>\n",
       "      <td>NaN</td>\n",
       "      <td>NaN</td>\n",
       "    </tr>\n",
       "    <tr>\n",
       "      <th>4</th>\n",
       "      <td>NaN</td>\n",
       "      <td>NaN</td>\n",
       "      <td>NaN</td>\n",
       "      <td>NaN</td>\n",
       "      <td>NaN</td>\n",
       "      <td>NaN</td>\n",
       "      <td>NaN</td>\n",
       "      <td>NaN</td>\n",
       "      <td>NaN</td>\n",
       "    </tr>\n",
       "  </tbody>\n",
       "</table>\n",
       "</div>"
      ],
      "text/plain": [
       "  y_label  y_A y_prob_correct_A y_prob_A    A  y_B y_prob_correct_B y_prob_B  \\\n",
       "0     NaN  NaN              NaN      NaN  NaN  NaN              NaN      NaN   \n",
       "1     NaN  NaN              NaN      NaN  NaN  NaN              NaN      NaN   \n",
       "2     NaN  NaN              NaN      NaN  NaN  NaN              NaN      NaN   \n",
       "3     NaN  NaN              NaN      NaN  NaN  NaN              NaN      NaN   \n",
       "4     NaN  NaN              NaN      NaN  NaN  NaN              NaN      NaN   \n",
       "\n",
       "     B  \n",
       "0  NaN  \n",
       "1  NaN  \n",
       "2  NaN  \n",
       "3  NaN  \n",
       "4  NaN  "
      ]
     },
     "execution_count": 216,
     "metadata": {},
     "output_type": "execute_result"
    }
   ],
   "source": [
    "results.head()"
   ]
  },
  {
   "cell_type": "markdown",
   "id": "9084dd4c",
   "metadata": {},
   "source": [
    "## Collect data "
   ]
  },
  {
   "cell_type": "code",
   "execution_count": 217,
   "id": "e2999c02",
   "metadata": {},
   "outputs": [],
   "source": [
    "model_A = model_resnet\n",
    "model_B = model_vit"
   ]
  },
  {
   "cell_type": "code",
   "execution_count": 218,
   "id": "a8a03aea",
   "metadata": {},
   "outputs": [],
   "source": [
    "def get_pred(dset, dset_size, idx, model, model_name, x, y):\n",
    "    y_pred = model(x).softmax(dim=1).detach()\n",
    "    y_pred_class = np.argmax(y_pred)\n",
    "\n",
    "    # store values\n",
    "\n",
    "    results.iloc[idx]['y_' + model_name] = y_pred_class.item()\n",
    "    results.iloc[idx]['y_prob_correct_' + model_name] = y_pred[0][y].item()\n",
    "    results.iloc[idx]['y_prob_' + model_name] = y_pred[0][y_pred_class.item()].item()\n",
    "\n",
    "    if (y == y_pred_class): \n",
    "        results.iloc[idx][model_name] = 1\n",
    "    else:\n",
    "        results.iloc[idx][model_name] = 0"
   ]
  },
  {
   "cell_type": "code",
   "execution_count": 219,
   "id": "05122fef",
   "metadata": {},
   "outputs": [],
   "source": [
    "def collect_data(dset, dset_size, results, model_A, model_B):\n",
    "    for idx in range(dset_size):\n",
    "        x, y = zip(*[dset[idx]])\n",
    "        x = torch.stack(x)\n",
    "        y = y[0]\n",
    "        \n",
    "        results.iloc[idx]['y_label'] = y\n",
    "        get_pred(dset, dset_size, idx, model_A, 'A', x, y)\n",
    "        get_pred(dset, dset_size, idx, model_B, 'B', x, y)"
   ]
  },
  {
   "cell_type": "code",
   "execution_count": 236,
   "id": "3a0ebecb",
   "metadata": {},
   "outputs": [],
   "source": [
    "def check_results(idx,  results, model_name):\n",
    "    x, y = zip(*[dset[idx]])\n",
    "    x = x[0]\n",
    "    y = y[0]\n",
    "    print(f'Label = {classes[y]}, {y}')\n",
    "    y_predicted = results.iloc[idx]['y_' + model_name] \n",
    "    print(f'Predicted = {classes[y_predicted]} , {y_predicted}' )\n",
    "    plot_img(x)"
   ]
  },
  {
   "cell_type": "code",
   "execution_count": 221,
   "id": "78dffcc9",
   "metadata": {},
   "outputs": [],
   "source": [
    "collect_data(dset, dset_size, results, model_A, model_B)"
   ]
  },
  {
   "cell_type": "code",
   "execution_count": 222,
   "id": "ae1051ed",
   "metadata": {
    "scrolled": false
   },
   "outputs": [
    {
     "data": {
      "text/html": [
       "<div>\n",
       "<style scoped>\n",
       "    .dataframe tbody tr th:only-of-type {\n",
       "        vertical-align: middle;\n",
       "    }\n",
       "\n",
       "    .dataframe tbody tr th {\n",
       "        vertical-align: top;\n",
       "    }\n",
       "\n",
       "    .dataframe thead th {\n",
       "        text-align: right;\n",
       "    }\n",
       "</style>\n",
       "<table border=\"1\" class=\"dataframe\">\n",
       "  <thead>\n",
       "    <tr style=\"text-align: right;\">\n",
       "      <th></th>\n",
       "      <th>y_label</th>\n",
       "      <th>y_A</th>\n",
       "      <th>y_prob_correct_A</th>\n",
       "      <th>y_prob_A</th>\n",
       "      <th>A</th>\n",
       "      <th>y_B</th>\n",
       "      <th>y_prob_correct_B</th>\n",
       "      <th>y_prob_B</th>\n",
       "      <th>B</th>\n",
       "    </tr>\n",
       "  </thead>\n",
       "  <tbody>\n",
       "    <tr>\n",
       "      <th>0</th>\n",
       "      <td>3</td>\n",
       "      <td>3</td>\n",
       "      <td>0.366576</td>\n",
       "      <td>0.366576</td>\n",
       "      <td>1</td>\n",
       "      <td>3</td>\n",
       "      <td>1.0</td>\n",
       "      <td>1.0</td>\n",
       "      <td>1</td>\n",
       "    </tr>\n",
       "    <tr>\n",
       "      <th>1</th>\n",
       "      <td>8</td>\n",
       "      <td>8</td>\n",
       "      <td>0.307475</td>\n",
       "      <td>0.307475</td>\n",
       "      <td>1</td>\n",
       "      <td>8</td>\n",
       "      <td>0.999998</td>\n",
       "      <td>0.999998</td>\n",
       "      <td>1</td>\n",
       "    </tr>\n",
       "    <tr>\n",
       "      <th>2</th>\n",
       "      <td>8</td>\n",
       "      <td>1</td>\n",
       "      <td>0.180506</td>\n",
       "      <td>0.241541</td>\n",
       "      <td>0</td>\n",
       "      <td>8</td>\n",
       "      <td>0.999936</td>\n",
       "      <td>0.999936</td>\n",
       "      <td>1</td>\n",
       "    </tr>\n",
       "    <tr>\n",
       "      <th>3</th>\n",
       "      <td>0</td>\n",
       "      <td>1</td>\n",
       "      <td>0.019308</td>\n",
       "      <td>0.37162</td>\n",
       "      <td>0</td>\n",
       "      <td>0</td>\n",
       "      <td>0.846047</td>\n",
       "      <td>0.846047</td>\n",
       "      <td>1</td>\n",
       "    </tr>\n",
       "    <tr>\n",
       "      <th>4</th>\n",
       "      <td>6</td>\n",
       "      <td>1</td>\n",
       "      <td>0.06216</td>\n",
       "      <td>0.321299</td>\n",
       "      <td>0</td>\n",
       "      <td>6</td>\n",
       "      <td>1.0</td>\n",
       "      <td>1.0</td>\n",
       "      <td>1</td>\n",
       "    </tr>\n",
       "    <tr>\n",
       "      <th>...</th>\n",
       "      <td>...</td>\n",
       "      <td>...</td>\n",
       "      <td>...</td>\n",
       "      <td>...</td>\n",
       "      <td>...</td>\n",
       "      <td>...</td>\n",
       "      <td>...</td>\n",
       "      <td>...</td>\n",
       "      <td>...</td>\n",
       "    </tr>\n",
       "    <tr>\n",
       "      <th>295</th>\n",
       "      <td>4</td>\n",
       "      <td>1</td>\n",
       "      <td>0.102048</td>\n",
       "      <td>0.165709</td>\n",
       "      <td>0</td>\n",
       "      <td>4</td>\n",
       "      <td>0.9983</td>\n",
       "      <td>0.9983</td>\n",
       "      <td>1</td>\n",
       "    </tr>\n",
       "    <tr>\n",
       "      <th>296</th>\n",
       "      <td>6</td>\n",
       "      <td>1</td>\n",
       "      <td>0.134055</td>\n",
       "      <td>0.25714</td>\n",
       "      <td>0</td>\n",
       "      <td>6</td>\n",
       "      <td>1.0</td>\n",
       "      <td>1.0</td>\n",
       "      <td>1</td>\n",
       "    </tr>\n",
       "    <tr>\n",
       "      <th>297</th>\n",
       "      <td>0</td>\n",
       "      <td>1</td>\n",
       "      <td>0.028894</td>\n",
       "      <td>0.570569</td>\n",
       "      <td>0</td>\n",
       "      <td>0</td>\n",
       "      <td>0.99972</td>\n",
       "      <td>0.99972</td>\n",
       "      <td>1</td>\n",
       "    </tr>\n",
       "    <tr>\n",
       "      <th>298</th>\n",
       "      <td>0</td>\n",
       "      <td>3</td>\n",
       "      <td>0.097698</td>\n",
       "      <td>0.267243</td>\n",
       "      <td>0</td>\n",
       "      <td>0</td>\n",
       "      <td>0.998641</td>\n",
       "      <td>0.998641</td>\n",
       "      <td>1</td>\n",
       "    </tr>\n",
       "    <tr>\n",
       "      <th>299</th>\n",
       "      <td>6</td>\n",
       "      <td>1</td>\n",
       "      <td>0.085947</td>\n",
       "      <td>0.251992</td>\n",
       "      <td>0</td>\n",
       "      <td>6</td>\n",
       "      <td>1.0</td>\n",
       "      <td>1.0</td>\n",
       "      <td>1</td>\n",
       "    </tr>\n",
       "  </tbody>\n",
       "</table>\n",
       "<p>300 rows × 9 columns</p>\n",
       "</div>"
      ],
      "text/plain": [
       "    y_label y_A y_prob_correct_A  y_prob_A  A y_B y_prob_correct_B  y_prob_B  \\\n",
       "0         3   3         0.366576  0.366576  1   3              1.0       1.0   \n",
       "1         8   8         0.307475  0.307475  1   8         0.999998  0.999998   \n",
       "2         8   1         0.180506  0.241541  0   8         0.999936  0.999936   \n",
       "3         0   1         0.019308   0.37162  0   0         0.846047  0.846047   \n",
       "4         6   1          0.06216  0.321299  0   6              1.0       1.0   \n",
       "..      ...  ..              ...       ... ..  ..              ...       ...   \n",
       "295       4   1         0.102048  0.165709  0   4           0.9983    0.9983   \n",
       "296       6   1         0.134055   0.25714  0   6              1.0       1.0   \n",
       "297       0   1         0.028894  0.570569  0   0          0.99972   0.99972   \n",
       "298       0   3         0.097698  0.267243  0   0         0.998641  0.998641   \n",
       "299       6   1         0.085947  0.251992  0   6              1.0       1.0   \n",
       "\n",
       "     B  \n",
       "0    1  \n",
       "1    1  \n",
       "2    1  \n",
       "3    1  \n",
       "4    1  \n",
       "..  ..  \n",
       "295  1  \n",
       "296  1  \n",
       "297  1  \n",
       "298  1  \n",
       "299  1  \n",
       "\n",
       "[300 rows x 9 columns]"
      ]
     },
     "execution_count": 222,
     "metadata": {},
     "output_type": "execute_result"
    }
   ],
   "source": [
    "results"
   ]
  },
  {
   "cell_type": "markdown",
   "id": "2d01dc97",
   "metadata": {},
   "source": [
    "# Classify samples into sets\n"
   ]
  },
  {
   "cell_type": "code",
   "execution_count": 227,
   "id": "7e2b50e9",
   "metadata": {},
   "outputs": [],
   "source": [
    "A_wrong_B_wrong = results[(results['A'] == 0) & (results['B'] == 0)] "
   ]
  },
  {
   "cell_type": "code",
   "execution_count": 228,
   "id": "f68ad1a5",
   "metadata": {},
   "outputs": [],
   "source": [
    "A_wrong_B_correct = results[(results['A'] == 0) & (results['B'] == 1)] "
   ]
  },
  {
   "cell_type": "code",
   "execution_count": 229,
   "id": "02c09aee",
   "metadata": {},
   "outputs": [],
   "source": [
    "A_correct_B_wrong = results[(results['A'] == 1) & (results['B'] == 0)] "
   ]
  },
  {
   "cell_type": "code",
   "execution_count": 230,
   "id": "fd47a5e5",
   "metadata": {},
   "outputs": [],
   "source": [
    "A_correct_B_correct = results[(results['A'] == 1) & (results['B'] == 1)] "
   ]
  },
  {
   "cell_type": "code",
   "execution_count": 231,
   "id": "5b832c06",
   "metadata": {},
   "outputs": [
    {
     "data": {
      "text/html": [
       "<div>\n",
       "<style scoped>\n",
       "    .dataframe tbody tr th:only-of-type {\n",
       "        vertical-align: middle;\n",
       "    }\n",
       "\n",
       "    .dataframe tbody tr th {\n",
       "        vertical-align: top;\n",
       "    }\n",
       "\n",
       "    .dataframe thead th {\n",
       "        text-align: right;\n",
       "    }\n",
       "</style>\n",
       "<table border=\"1\" class=\"dataframe\">\n",
       "  <thead>\n",
       "    <tr style=\"text-align: right;\">\n",
       "      <th></th>\n",
       "      <th>y_label</th>\n",
       "      <th>y_A</th>\n",
       "      <th>y_prob_correct_A</th>\n",
       "      <th>y_prob_A</th>\n",
       "      <th>A</th>\n",
       "      <th>y_B</th>\n",
       "      <th>y_prob_correct_B</th>\n",
       "      <th>y_prob_B</th>\n",
       "      <th>B</th>\n",
       "    </tr>\n",
       "  </thead>\n",
       "  <tbody>\n",
       "    <tr>\n",
       "      <th>35</th>\n",
       "      <td>2</td>\n",
       "      <td>1</td>\n",
       "      <td>0.02934</td>\n",
       "      <td>0.325694</td>\n",
       "      <td>0</td>\n",
       "      <td>1</td>\n",
       "      <td>0.0</td>\n",
       "      <td>0.93951</td>\n",
       "      <td>0</td>\n",
       "    </tr>\n",
       "    <tr>\n",
       "      <th>47</th>\n",
       "      <td>9</td>\n",
       "      <td>1</td>\n",
       "      <td>0.189299</td>\n",
       "      <td>0.243881</td>\n",
       "      <td>0</td>\n",
       "      <td>8</td>\n",
       "      <td>0.038373</td>\n",
       "      <td>0.959992</td>\n",
       "      <td>0</td>\n",
       "    </tr>\n",
       "    <tr>\n",
       "      <th>53</th>\n",
       "      <td>3</td>\n",
       "      <td>9</td>\n",
       "      <td>0.105674</td>\n",
       "      <td>0.363836</td>\n",
       "      <td>0</td>\n",
       "      <td>6</td>\n",
       "      <td>0.000521</td>\n",
       "      <td>0.99941</td>\n",
       "      <td>0</td>\n",
       "    </tr>\n",
       "    <tr>\n",
       "      <th>57</th>\n",
       "      <td>7</td>\n",
       "      <td>3</td>\n",
       "      <td>0.043962</td>\n",
       "      <td>0.329053</td>\n",
       "      <td>0</td>\n",
       "      <td>5</td>\n",
       "      <td>0.0</td>\n",
       "      <td>0.99999</td>\n",
       "      <td>0</td>\n",
       "    </tr>\n",
       "    <tr>\n",
       "      <th>58</th>\n",
       "      <td>4</td>\n",
       "      <td>5</td>\n",
       "      <td>0.098013</td>\n",
       "      <td>0.228652</td>\n",
       "      <td>0</td>\n",
       "      <td>3</td>\n",
       "      <td>0.003957</td>\n",
       "      <td>0.98514</td>\n",
       "      <td>0</td>\n",
       "    </tr>\n",
       "    <tr>\n",
       "      <th>59</th>\n",
       "      <td>6</td>\n",
       "      <td>1</td>\n",
       "      <td>0.031643</td>\n",
       "      <td>0.327265</td>\n",
       "      <td>0</td>\n",
       "      <td>7</td>\n",
       "      <td>0.23121</td>\n",
       "      <td>0.679919</td>\n",
       "      <td>0</td>\n",
       "    </tr>\n",
       "    <tr>\n",
       "      <th>61</th>\n",
       "      <td>3</td>\n",
       "      <td>5</td>\n",
       "      <td>0.116148</td>\n",
       "      <td>0.219245</td>\n",
       "      <td>0</td>\n",
       "      <td>5</td>\n",
       "      <td>0.268519</td>\n",
       "      <td>0.731466</td>\n",
       "      <td>0</td>\n",
       "    </tr>\n",
       "    <tr>\n",
       "      <th>85</th>\n",
       "      <td>5</td>\n",
       "      <td>3</td>\n",
       "      <td>0.190139</td>\n",
       "      <td>0.225199</td>\n",
       "      <td>0</td>\n",
       "      <td>7</td>\n",
       "      <td>0.142349</td>\n",
       "      <td>0.801315</td>\n",
       "      <td>0</td>\n",
       "    </tr>\n",
       "    <tr>\n",
       "      <th>87</th>\n",
       "      <td>7</td>\n",
       "      <td>1</td>\n",
       "      <td>0.038673</td>\n",
       "      <td>0.414504</td>\n",
       "      <td>0</td>\n",
       "      <td>0</td>\n",
       "      <td>0.000032</td>\n",
       "      <td>0.995287</td>\n",
       "      <td>0</td>\n",
       "    </tr>\n",
       "    <tr>\n",
       "      <th>118</th>\n",
       "      <td>2</td>\n",
       "      <td>9</td>\n",
       "      <td>0.017582</td>\n",
       "      <td>0.376003</td>\n",
       "      <td>0</td>\n",
       "      <td>3</td>\n",
       "      <td>0.00156</td>\n",
       "      <td>0.993404</td>\n",
       "      <td>0</td>\n",
       "    </tr>\n",
       "    <tr>\n",
       "      <th>125</th>\n",
       "      <td>0</td>\n",
       "      <td>9</td>\n",
       "      <td>0.071573</td>\n",
       "      <td>0.247604</td>\n",
       "      <td>0</td>\n",
       "      <td>2</td>\n",
       "      <td>0.000867</td>\n",
       "      <td>0.745884</td>\n",
       "      <td>0</td>\n",
       "    </tr>\n",
       "    <tr>\n",
       "      <th>128</th>\n",
       "      <td>5</td>\n",
       "      <td>3</td>\n",
       "      <td>0.164436</td>\n",
       "      <td>0.181512</td>\n",
       "      <td>0</td>\n",
       "      <td>3</td>\n",
       "      <td>0.00474</td>\n",
       "      <td>0.797657</td>\n",
       "      <td>0</td>\n",
       "    </tr>\n",
       "    <tr>\n",
       "      <th>129</th>\n",
       "      <td>2</td>\n",
       "      <td>3</td>\n",
       "      <td>0.121587</td>\n",
       "      <td>0.218832</td>\n",
       "      <td>0</td>\n",
       "      <td>0</td>\n",
       "      <td>0.000019</td>\n",
       "      <td>0.999976</td>\n",
       "      <td>0</td>\n",
       "    </tr>\n",
       "    <tr>\n",
       "      <th>130</th>\n",
       "      <td>4</td>\n",
       "      <td>3</td>\n",
       "      <td>0.118831</td>\n",
       "      <td>0.207886</td>\n",
       "      <td>0</td>\n",
       "      <td>2</td>\n",
       "      <td>0.377577</td>\n",
       "      <td>0.622415</td>\n",
       "      <td>0</td>\n",
       "    </tr>\n",
       "    <tr>\n",
       "      <th>139</th>\n",
       "      <td>9</td>\n",
       "      <td>1</td>\n",
       "      <td>0.210871</td>\n",
       "      <td>0.320606</td>\n",
       "      <td>0</td>\n",
       "      <td>0</td>\n",
       "      <td>0.00001</td>\n",
       "      <td>0.825094</td>\n",
       "      <td>0</td>\n",
       "    </tr>\n",
       "    <tr>\n",
       "      <th>145</th>\n",
       "      <td>7</td>\n",
       "      <td>1</td>\n",
       "      <td>0.015068</td>\n",
       "      <td>0.3877</td>\n",
       "      <td>0</td>\n",
       "      <td>3</td>\n",
       "      <td>0.002551</td>\n",
       "      <td>0.975038</td>\n",
       "      <td>0</td>\n",
       "    </tr>\n",
       "    <tr>\n",
       "      <th>147</th>\n",
       "      <td>2</td>\n",
       "      <td>9</td>\n",
       "      <td>0.011705</td>\n",
       "      <td>0.383065</td>\n",
       "      <td>0</td>\n",
       "      <td>5</td>\n",
       "      <td>0.000075</td>\n",
       "      <td>0.999698</td>\n",
       "      <td>0</td>\n",
       "    </tr>\n",
       "    <tr>\n",
       "      <th>148</th>\n",
       "      <td>5</td>\n",
       "      <td>1</td>\n",
       "      <td>0.091479</td>\n",
       "      <td>0.206203</td>\n",
       "      <td>0</td>\n",
       "      <td>7</td>\n",
       "      <td>0.010198</td>\n",
       "      <td>0.989762</td>\n",
       "      <td>0</td>\n",
       "    </tr>\n",
       "    <tr>\n",
       "      <th>162</th>\n",
       "      <td>6</td>\n",
       "      <td>1</td>\n",
       "      <td>0.034782</td>\n",
       "      <td>0.438939</td>\n",
       "      <td>0</td>\n",
       "      <td>5</td>\n",
       "      <td>0.008963</td>\n",
       "      <td>0.990524</td>\n",
       "      <td>0</td>\n",
       "    </tr>\n",
       "    <tr>\n",
       "      <th>164</th>\n",
       "      <td>8</td>\n",
       "      <td>9</td>\n",
       "      <td>0.129239</td>\n",
       "      <td>0.316282</td>\n",
       "      <td>0</td>\n",
       "      <td>0</td>\n",
       "      <td>0.266023</td>\n",
       "      <td>0.733772</td>\n",
       "      <td>0</td>\n",
       "    </tr>\n",
       "    <tr>\n",
       "      <th>183</th>\n",
       "      <td>2</td>\n",
       "      <td>9</td>\n",
       "      <td>0.138974</td>\n",
       "      <td>0.221374</td>\n",
       "      <td>0</td>\n",
       "      <td>6</td>\n",
       "      <td>0.001654</td>\n",
       "      <td>0.996406</td>\n",
       "      <td>0</td>\n",
       "    </tr>\n",
       "    <tr>\n",
       "      <th>188</th>\n",
       "      <td>4</td>\n",
       "      <td>9</td>\n",
       "      <td>0.160477</td>\n",
       "      <td>0.184819</td>\n",
       "      <td>0</td>\n",
       "      <td>3</td>\n",
       "      <td>0.010286</td>\n",
       "      <td>0.989712</td>\n",
       "      <td>0</td>\n",
       "    </tr>\n",
       "    <tr>\n",
       "      <th>195</th>\n",
       "      <td>2</td>\n",
       "      <td>0</td>\n",
       "      <td>0.120967</td>\n",
       "      <td>0.202949</td>\n",
       "      <td>0</td>\n",
       "      <td>4</td>\n",
       "      <td>0.022407</td>\n",
       "      <td>0.946507</td>\n",
       "      <td>0</td>\n",
       "    </tr>\n",
       "    <tr>\n",
       "      <th>211</th>\n",
       "      <td>4</td>\n",
       "      <td>8</td>\n",
       "      <td>0.05497</td>\n",
       "      <td>0.215165</td>\n",
       "      <td>0</td>\n",
       "      <td>8</td>\n",
       "      <td>0.000224</td>\n",
       "      <td>0.943442</td>\n",
       "      <td>0</td>\n",
       "    </tr>\n",
       "    <tr>\n",
       "      <th>215</th>\n",
       "      <td>0</td>\n",
       "      <td>3</td>\n",
       "      <td>0.078439</td>\n",
       "      <td>0.237166</td>\n",
       "      <td>0</td>\n",
       "      <td>2</td>\n",
       "      <td>0.000547</td>\n",
       "      <td>0.998775</td>\n",
       "      <td>0</td>\n",
       "    </tr>\n",
       "    <tr>\n",
       "      <th>218</th>\n",
       "      <td>8</td>\n",
       "      <td>1</td>\n",
       "      <td>0.10911</td>\n",
       "      <td>0.385487</td>\n",
       "      <td>0</td>\n",
       "      <td>3</td>\n",
       "      <td>0.002021</td>\n",
       "      <td>0.923369</td>\n",
       "      <td>0</td>\n",
       "    </tr>\n",
       "    <tr>\n",
       "      <th>220</th>\n",
       "      <td>7</td>\n",
       "      <td>5</td>\n",
       "      <td>0.091746</td>\n",
       "      <td>0.220206</td>\n",
       "      <td>0</td>\n",
       "      <td>4</td>\n",
       "      <td>0.460699</td>\n",
       "      <td>0.537353</td>\n",
       "      <td>0</td>\n",
       "    </tr>\n",
       "    <tr>\n",
       "      <th>228</th>\n",
       "      <td>7</td>\n",
       "      <td>9</td>\n",
       "      <td>0.051715</td>\n",
       "      <td>0.215246</td>\n",
       "      <td>0</td>\n",
       "      <td>3</td>\n",
       "      <td>0.000357</td>\n",
       "      <td>0.506484</td>\n",
       "      <td>0</td>\n",
       "    </tr>\n",
       "    <tr>\n",
       "      <th>237</th>\n",
       "      <td>0</td>\n",
       "      <td>9</td>\n",
       "      <td>0.130872</td>\n",
       "      <td>0.264024</td>\n",
       "      <td>0</td>\n",
       "      <td>7</td>\n",
       "      <td>0.080357</td>\n",
       "      <td>0.860808</td>\n",
       "      <td>0</td>\n",
       "    </tr>\n",
       "    <tr>\n",
       "      <th>242</th>\n",
       "      <td>8</td>\n",
       "      <td>1</td>\n",
       "      <td>0.149385</td>\n",
       "      <td>0.369161</td>\n",
       "      <td>0</td>\n",
       "      <td>9</td>\n",
       "      <td>0.043736</td>\n",
       "      <td>0.899165</td>\n",
       "      <td>0</td>\n",
       "    </tr>\n",
       "    <tr>\n",
       "      <th>255</th>\n",
       "      <td>0</td>\n",
       "      <td>1</td>\n",
       "      <td>0.064463</td>\n",
       "      <td>0.228909</td>\n",
       "      <td>0</td>\n",
       "      <td>8</td>\n",
       "      <td>0.022234</td>\n",
       "      <td>0.959912</td>\n",
       "      <td>0</td>\n",
       "    </tr>\n",
       "    <tr>\n",
       "      <th>258</th>\n",
       "      <td>0</td>\n",
       "      <td>8</td>\n",
       "      <td>0.102155</td>\n",
       "      <td>0.268901</td>\n",
       "      <td>0</td>\n",
       "      <td>8</td>\n",
       "      <td>0.004742</td>\n",
       "      <td>0.995119</td>\n",
       "      <td>0</td>\n",
       "    </tr>\n",
       "    <tr>\n",
       "      <th>262</th>\n",
       "      <td>5</td>\n",
       "      <td>1</td>\n",
       "      <td>0.214896</td>\n",
       "      <td>0.217644</td>\n",
       "      <td>0</td>\n",
       "      <td>3</td>\n",
       "      <td>0.000541</td>\n",
       "      <td>0.994549</td>\n",
       "      <td>0</td>\n",
       "    </tr>\n",
       "    <tr>\n",
       "      <th>271</th>\n",
       "      <td>3</td>\n",
       "      <td>5</td>\n",
       "      <td>0.165432</td>\n",
       "      <td>0.217195</td>\n",
       "      <td>0</td>\n",
       "      <td>4</td>\n",
       "      <td>0.06387</td>\n",
       "      <td>0.555868</td>\n",
       "      <td>0</td>\n",
       "    </tr>\n",
       "    <tr>\n",
       "      <th>281</th>\n",
       "      <td>0</td>\n",
       "      <td>1</td>\n",
       "      <td>0.05282</td>\n",
       "      <td>0.457573</td>\n",
       "      <td>0</td>\n",
       "      <td>1</td>\n",
       "      <td>0.000002</td>\n",
       "      <td>0.999993</td>\n",
       "      <td>0</td>\n",
       "    </tr>\n",
       "    <tr>\n",
       "      <th>284</th>\n",
       "      <td>0</td>\n",
       "      <td>9</td>\n",
       "      <td>0.112102</td>\n",
       "      <td>0.31686</td>\n",
       "      <td>0</td>\n",
       "      <td>9</td>\n",
       "      <td>0.0</td>\n",
       "      <td>1.0</td>\n",
       "      <td>0</td>\n",
       "    </tr>\n",
       "    <tr>\n",
       "      <th>287</th>\n",
       "      <td>0</td>\n",
       "      <td>1</td>\n",
       "      <td>0.088616</td>\n",
       "      <td>0.293259</td>\n",
       "      <td>0</td>\n",
       "      <td>8</td>\n",
       "      <td>0.4847</td>\n",
       "      <td>0.5153</td>\n",
       "      <td>0</td>\n",
       "    </tr>\n",
       "  </tbody>\n",
       "</table>\n",
       "</div>"
      ],
      "text/plain": [
       "    y_label y_A y_prob_correct_A  y_prob_A  A y_B y_prob_correct_B  y_prob_B  \\\n",
       "35        2   1          0.02934  0.325694  0   1              0.0   0.93951   \n",
       "47        9   1         0.189299  0.243881  0   8         0.038373  0.959992   \n",
       "53        3   9         0.105674  0.363836  0   6         0.000521   0.99941   \n",
       "57        7   3         0.043962  0.329053  0   5              0.0   0.99999   \n",
       "58        4   5         0.098013  0.228652  0   3         0.003957   0.98514   \n",
       "59        6   1         0.031643  0.327265  0   7          0.23121  0.679919   \n",
       "61        3   5         0.116148  0.219245  0   5         0.268519  0.731466   \n",
       "85        5   3         0.190139  0.225199  0   7         0.142349  0.801315   \n",
       "87        7   1         0.038673  0.414504  0   0         0.000032  0.995287   \n",
       "118       2   9         0.017582  0.376003  0   3          0.00156  0.993404   \n",
       "125       0   9         0.071573  0.247604  0   2         0.000867  0.745884   \n",
       "128       5   3         0.164436  0.181512  0   3          0.00474  0.797657   \n",
       "129       2   3         0.121587  0.218832  0   0         0.000019  0.999976   \n",
       "130       4   3         0.118831  0.207886  0   2         0.377577  0.622415   \n",
       "139       9   1         0.210871  0.320606  0   0          0.00001  0.825094   \n",
       "145       7   1         0.015068    0.3877  0   3         0.002551  0.975038   \n",
       "147       2   9         0.011705  0.383065  0   5         0.000075  0.999698   \n",
       "148       5   1         0.091479  0.206203  0   7         0.010198  0.989762   \n",
       "162       6   1         0.034782  0.438939  0   5         0.008963  0.990524   \n",
       "164       8   9         0.129239  0.316282  0   0         0.266023  0.733772   \n",
       "183       2   9         0.138974  0.221374  0   6         0.001654  0.996406   \n",
       "188       4   9         0.160477  0.184819  0   3         0.010286  0.989712   \n",
       "195       2   0         0.120967  0.202949  0   4         0.022407  0.946507   \n",
       "211       4   8          0.05497  0.215165  0   8         0.000224  0.943442   \n",
       "215       0   3         0.078439  0.237166  0   2         0.000547  0.998775   \n",
       "218       8   1          0.10911  0.385487  0   3         0.002021  0.923369   \n",
       "220       7   5         0.091746  0.220206  0   4         0.460699  0.537353   \n",
       "228       7   9         0.051715  0.215246  0   3         0.000357  0.506484   \n",
       "237       0   9         0.130872  0.264024  0   7         0.080357  0.860808   \n",
       "242       8   1         0.149385  0.369161  0   9         0.043736  0.899165   \n",
       "255       0   1         0.064463  0.228909  0   8         0.022234  0.959912   \n",
       "258       0   8         0.102155  0.268901  0   8         0.004742  0.995119   \n",
       "262       5   1         0.214896  0.217644  0   3         0.000541  0.994549   \n",
       "271       3   5         0.165432  0.217195  0   4          0.06387  0.555868   \n",
       "281       0   1          0.05282  0.457573  0   1         0.000002  0.999993   \n",
       "284       0   9         0.112102   0.31686  0   9              0.0       1.0   \n",
       "287       0   1         0.088616  0.293259  0   8           0.4847    0.5153   \n",
       "\n",
       "     B  \n",
       "35   0  \n",
       "47   0  \n",
       "53   0  \n",
       "57   0  \n",
       "58   0  \n",
       "59   0  \n",
       "61   0  \n",
       "85   0  \n",
       "87   0  \n",
       "118  0  \n",
       "125  0  \n",
       "128  0  \n",
       "129  0  \n",
       "130  0  \n",
       "139  0  \n",
       "145  0  \n",
       "147  0  \n",
       "148  0  \n",
       "162  0  \n",
       "164  0  \n",
       "183  0  \n",
       "188  0  \n",
       "195  0  \n",
       "211  0  \n",
       "215  0  \n",
       "218  0  \n",
       "220  0  \n",
       "228  0  \n",
       "237  0  \n",
       "242  0  \n",
       "255  0  \n",
       "258  0  \n",
       "262  0  \n",
       "271  0  \n",
       "281  0  \n",
       "284  0  \n",
       "287  0  "
      ]
     },
     "execution_count": 231,
     "metadata": {},
     "output_type": "execute_result"
    }
   ],
   "source": [
    "A_wrong_B_wrong"
   ]
  },
  {
   "cell_type": "code",
   "execution_count": 232,
   "id": "d6e1610b",
   "metadata": {},
   "outputs": [
    {
     "data": {
      "text/html": [
       "<div>\n",
       "<style scoped>\n",
       "    .dataframe tbody tr th:only-of-type {\n",
       "        vertical-align: middle;\n",
       "    }\n",
       "\n",
       "    .dataframe tbody tr th {\n",
       "        vertical-align: top;\n",
       "    }\n",
       "\n",
       "    .dataframe thead th {\n",
       "        text-align: right;\n",
       "    }\n",
       "</style>\n",
       "<table border=\"1\" class=\"dataframe\">\n",
       "  <thead>\n",
       "    <tr style=\"text-align: right;\">\n",
       "      <th></th>\n",
       "      <th>y_label</th>\n",
       "      <th>y_A</th>\n",
       "      <th>y_prob_correct_A</th>\n",
       "      <th>y_prob_A</th>\n",
       "      <th>A</th>\n",
       "      <th>y_B</th>\n",
       "      <th>y_prob_correct_B</th>\n",
       "      <th>y_prob_B</th>\n",
       "      <th>B</th>\n",
       "    </tr>\n",
       "  </thead>\n",
       "  <tbody>\n",
       "    <tr>\n",
       "      <th>2</th>\n",
       "      <td>8</td>\n",
       "      <td>1</td>\n",
       "      <td>0.180506</td>\n",
       "      <td>0.241541</td>\n",
       "      <td>0</td>\n",
       "      <td>8</td>\n",
       "      <td>0.999936</td>\n",
       "      <td>0.999936</td>\n",
       "      <td>1</td>\n",
       "    </tr>\n",
       "    <tr>\n",
       "      <th>3</th>\n",
       "      <td>0</td>\n",
       "      <td>1</td>\n",
       "      <td>0.019308</td>\n",
       "      <td>0.37162</td>\n",
       "      <td>0</td>\n",
       "      <td>0</td>\n",
       "      <td>0.846047</td>\n",
       "      <td>0.846047</td>\n",
       "      <td>1</td>\n",
       "    </tr>\n",
       "    <tr>\n",
       "      <th>4</th>\n",
       "      <td>6</td>\n",
       "      <td>1</td>\n",
       "      <td>0.06216</td>\n",
       "      <td>0.321299</td>\n",
       "      <td>0</td>\n",
       "      <td>6</td>\n",
       "      <td>1.0</td>\n",
       "      <td>1.0</td>\n",
       "      <td>1</td>\n",
       "    </tr>\n",
       "    <tr>\n",
       "      <th>5</th>\n",
       "      <td>6</td>\n",
       "      <td>1</td>\n",
       "      <td>0.041133</td>\n",
       "      <td>0.551747</td>\n",
       "      <td>0</td>\n",
       "      <td>6</td>\n",
       "      <td>0.999997</td>\n",
       "      <td>0.999997</td>\n",
       "      <td>1</td>\n",
       "    </tr>\n",
       "    <tr>\n",
       "      <th>7</th>\n",
       "      <td>6</td>\n",
       "      <td>5</td>\n",
       "      <td>0.060609</td>\n",
       "      <td>0.264785</td>\n",
       "      <td>0</td>\n",
       "      <td>6</td>\n",
       "      <td>1.0</td>\n",
       "      <td>1.0</td>\n",
       "      <td>1</td>\n",
       "    </tr>\n",
       "    <tr>\n",
       "      <th>...</th>\n",
       "      <td>...</td>\n",
       "      <td>...</td>\n",
       "      <td>...</td>\n",
       "      <td>...</td>\n",
       "      <td>...</td>\n",
       "      <td>...</td>\n",
       "      <td>...</td>\n",
       "      <td>...</td>\n",
       "      <td>...</td>\n",
       "    </tr>\n",
       "    <tr>\n",
       "      <th>295</th>\n",
       "      <td>4</td>\n",
       "      <td>1</td>\n",
       "      <td>0.102048</td>\n",
       "      <td>0.165709</td>\n",
       "      <td>0</td>\n",
       "      <td>4</td>\n",
       "      <td>0.9983</td>\n",
       "      <td>0.9983</td>\n",
       "      <td>1</td>\n",
       "    </tr>\n",
       "    <tr>\n",
       "      <th>296</th>\n",
       "      <td>6</td>\n",
       "      <td>1</td>\n",
       "      <td>0.134055</td>\n",
       "      <td>0.25714</td>\n",
       "      <td>0</td>\n",
       "      <td>6</td>\n",
       "      <td>1.0</td>\n",
       "      <td>1.0</td>\n",
       "      <td>1</td>\n",
       "    </tr>\n",
       "    <tr>\n",
       "      <th>297</th>\n",
       "      <td>0</td>\n",
       "      <td>1</td>\n",
       "      <td>0.028894</td>\n",
       "      <td>0.570569</td>\n",
       "      <td>0</td>\n",
       "      <td>0</td>\n",
       "      <td>0.99972</td>\n",
       "      <td>0.99972</td>\n",
       "      <td>1</td>\n",
       "    </tr>\n",
       "    <tr>\n",
       "      <th>298</th>\n",
       "      <td>0</td>\n",
       "      <td>3</td>\n",
       "      <td>0.097698</td>\n",
       "      <td>0.267243</td>\n",
       "      <td>0</td>\n",
       "      <td>0</td>\n",
       "      <td>0.998641</td>\n",
       "      <td>0.998641</td>\n",
       "      <td>1</td>\n",
       "    </tr>\n",
       "    <tr>\n",
       "      <th>299</th>\n",
       "      <td>6</td>\n",
       "      <td>1</td>\n",
       "      <td>0.085947</td>\n",
       "      <td>0.251992</td>\n",
       "      <td>0</td>\n",
       "      <td>6</td>\n",
       "      <td>1.0</td>\n",
       "      <td>1.0</td>\n",
       "      <td>1</td>\n",
       "    </tr>\n",
       "  </tbody>\n",
       "</table>\n",
       "<p>161 rows × 9 columns</p>\n",
       "</div>"
      ],
      "text/plain": [
       "    y_label y_A y_prob_correct_A  y_prob_A  A y_B y_prob_correct_B  y_prob_B  \\\n",
       "2         8   1         0.180506  0.241541  0   8         0.999936  0.999936   \n",
       "3         0   1         0.019308   0.37162  0   0         0.846047  0.846047   \n",
       "4         6   1          0.06216  0.321299  0   6              1.0       1.0   \n",
       "5         6   1         0.041133  0.551747  0   6         0.999997  0.999997   \n",
       "7         6   5         0.060609  0.264785  0   6              1.0       1.0   \n",
       "..      ...  ..              ...       ... ..  ..              ...       ...   \n",
       "295       4   1         0.102048  0.165709  0   4           0.9983    0.9983   \n",
       "296       6   1         0.134055   0.25714  0   6              1.0       1.0   \n",
       "297       0   1         0.028894  0.570569  0   0          0.99972   0.99972   \n",
       "298       0   3         0.097698  0.267243  0   0         0.998641  0.998641   \n",
       "299       6   1         0.085947  0.251992  0   6              1.0       1.0   \n",
       "\n",
       "     B  \n",
       "2    1  \n",
       "3    1  \n",
       "4    1  \n",
       "5    1  \n",
       "7    1  \n",
       "..  ..  \n",
       "295  1  \n",
       "296  1  \n",
       "297  1  \n",
       "298  1  \n",
       "299  1  \n",
       "\n",
       "[161 rows x 9 columns]"
      ]
     },
     "execution_count": 232,
     "metadata": {},
     "output_type": "execute_result"
    }
   ],
   "source": [
    "A_wrong_B_correct"
   ]
  },
  {
   "cell_type": "code",
   "execution_count": 233,
   "id": "80b0fabf",
   "metadata": {},
   "outputs": [
    {
     "data": {
      "text/html": [
       "<div>\n",
       "<style scoped>\n",
       "    .dataframe tbody tr th:only-of-type {\n",
       "        vertical-align: middle;\n",
       "    }\n",
       "\n",
       "    .dataframe tbody tr th {\n",
       "        vertical-align: top;\n",
       "    }\n",
       "\n",
       "    .dataframe thead th {\n",
       "        text-align: right;\n",
       "    }\n",
       "</style>\n",
       "<table border=\"1\" class=\"dataframe\">\n",
       "  <thead>\n",
       "    <tr style=\"text-align: right;\">\n",
       "      <th></th>\n",
       "      <th>y_label</th>\n",
       "      <th>y_A</th>\n",
       "      <th>y_prob_correct_A</th>\n",
       "      <th>y_prob_A</th>\n",
       "      <th>A</th>\n",
       "      <th>y_B</th>\n",
       "      <th>y_prob_correct_B</th>\n",
       "      <th>y_prob_B</th>\n",
       "      <th>B</th>\n",
       "    </tr>\n",
       "  </thead>\n",
       "  <tbody>\n",
       "    <tr>\n",
       "      <th>12</th>\n",
       "      <td>5</td>\n",
       "      <td>5</td>\n",
       "      <td>0.315315</td>\n",
       "      <td>0.315315</td>\n",
       "      <td>1</td>\n",
       "      <td>3</td>\n",
       "      <td>0.053655</td>\n",
       "      <td>0.753414</td>\n",
       "      <td>0</td>\n",
       "    </tr>\n",
       "    <tr>\n",
       "      <th>36</th>\n",
       "      <td>4</td>\n",
       "      <td>4</td>\n",
       "      <td>0.326334</td>\n",
       "      <td>0.326334</td>\n",
       "      <td>1</td>\n",
       "      <td>7</td>\n",
       "      <td>0.003052</td>\n",
       "      <td>0.996187</td>\n",
       "      <td>0</td>\n",
       "    </tr>\n",
       "    <tr>\n",
       "      <th>76</th>\n",
       "      <td>9</td>\n",
       "      <td>9</td>\n",
       "      <td>0.333115</td>\n",
       "      <td>0.333115</td>\n",
       "      <td>1</td>\n",
       "      <td>0</td>\n",
       "      <td>0.167144</td>\n",
       "      <td>0.832351</td>\n",
       "      <td>0</td>\n",
       "    </tr>\n",
       "    <tr>\n",
       "      <th>101</th>\n",
       "      <td>5</td>\n",
       "      <td>5</td>\n",
       "      <td>0.259005</td>\n",
       "      <td>0.259005</td>\n",
       "      <td>1</td>\n",
       "      <td>7</td>\n",
       "      <td>0.104662</td>\n",
       "      <td>0.513199</td>\n",
       "      <td>0</td>\n",
       "    </tr>\n",
       "    <tr>\n",
       "      <th>171</th>\n",
       "      <td>9</td>\n",
       "      <td>9</td>\n",
       "      <td>0.430742</td>\n",
       "      <td>0.430742</td>\n",
       "      <td>1</td>\n",
       "      <td>3</td>\n",
       "      <td>0.010039</td>\n",
       "      <td>0.527993</td>\n",
       "      <td>0</td>\n",
       "    </tr>\n",
       "    <tr>\n",
       "      <th>178</th>\n",
       "      <td>5</td>\n",
       "      <td>5</td>\n",
       "      <td>0.220996</td>\n",
       "      <td>0.220996</td>\n",
       "      <td>1</td>\n",
       "      <td>3</td>\n",
       "      <td>0.000207</td>\n",
       "      <td>0.999753</td>\n",
       "      <td>0</td>\n",
       "    </tr>\n",
       "    <tr>\n",
       "      <th>184</th>\n",
       "      <td>3</td>\n",
       "      <td>3</td>\n",
       "      <td>0.23282</td>\n",
       "      <td>0.23282</td>\n",
       "      <td>1</td>\n",
       "      <td>0</td>\n",
       "      <td>0.165736</td>\n",
       "      <td>0.762415</td>\n",
       "      <td>0</td>\n",
       "    </tr>\n",
       "    <tr>\n",
       "      <th>247</th>\n",
       "      <td>9</td>\n",
       "      <td>9</td>\n",
       "      <td>0.368243</td>\n",
       "      <td>0.368243</td>\n",
       "      <td>1</td>\n",
       "      <td>8</td>\n",
       "      <td>0.000003</td>\n",
       "      <td>0.999997</td>\n",
       "      <td>0</td>\n",
       "    </tr>\n",
       "    <tr>\n",
       "      <th>286</th>\n",
       "      <td>1</td>\n",
       "      <td>1</td>\n",
       "      <td>0.616593</td>\n",
       "      <td>0.616593</td>\n",
       "      <td>1</td>\n",
       "      <td>8</td>\n",
       "      <td>0.368821</td>\n",
       "      <td>0.630906</td>\n",
       "      <td>0</td>\n",
       "    </tr>\n",
       "  </tbody>\n",
       "</table>\n",
       "</div>"
      ],
      "text/plain": [
       "    y_label y_A y_prob_correct_A  y_prob_A  A y_B y_prob_correct_B  y_prob_B  \\\n",
       "12        5   5         0.315315  0.315315  1   3         0.053655  0.753414   \n",
       "36        4   4         0.326334  0.326334  1   7         0.003052  0.996187   \n",
       "76        9   9         0.333115  0.333115  1   0         0.167144  0.832351   \n",
       "101       5   5         0.259005  0.259005  1   7         0.104662  0.513199   \n",
       "171       9   9         0.430742  0.430742  1   3         0.010039  0.527993   \n",
       "178       5   5         0.220996  0.220996  1   3         0.000207  0.999753   \n",
       "184       3   3          0.23282   0.23282  1   0         0.165736  0.762415   \n",
       "247       9   9         0.368243  0.368243  1   8         0.000003  0.999997   \n",
       "286       1   1         0.616593  0.616593  1   8         0.368821  0.630906   \n",
       "\n",
       "     B  \n",
       "12   0  \n",
       "36   0  \n",
       "76   0  \n",
       "101  0  \n",
       "171  0  \n",
       "178  0  \n",
       "184  0  \n",
       "247  0  \n",
       "286  0  "
      ]
     },
     "execution_count": 233,
     "metadata": {},
     "output_type": "execute_result"
    }
   ],
   "source": [
    "A_correct_B_wrong"
   ]
  },
  {
   "cell_type": "code",
   "execution_count": 251,
   "id": "7248b511",
   "metadata": {},
   "outputs": [
    {
     "data": {
      "text/html": [
       "<div>\n",
       "<style scoped>\n",
       "    .dataframe tbody tr th:only-of-type {\n",
       "        vertical-align: middle;\n",
       "    }\n",
       "\n",
       "    .dataframe tbody tr th {\n",
       "        vertical-align: top;\n",
       "    }\n",
       "\n",
       "    .dataframe thead th {\n",
       "        text-align: right;\n",
       "    }\n",
       "</style>\n",
       "<table border=\"1\" class=\"dataframe\">\n",
       "  <thead>\n",
       "    <tr style=\"text-align: right;\">\n",
       "      <th></th>\n",
       "      <th>y_label</th>\n",
       "      <th>y_A</th>\n",
       "      <th>y_prob_correct_A</th>\n",
       "      <th>y_prob_A</th>\n",
       "      <th>A</th>\n",
       "      <th>y_B</th>\n",
       "      <th>y_prob_correct_B</th>\n",
       "      <th>y_prob_B</th>\n",
       "      <th>B</th>\n",
       "    </tr>\n",
       "  </thead>\n",
       "  <tbody>\n",
       "    <tr>\n",
       "      <th>0</th>\n",
       "      <td>3</td>\n",
       "      <td>3</td>\n",
       "      <td>0.366576</td>\n",
       "      <td>0.366576</td>\n",
       "      <td>1</td>\n",
       "      <td>3</td>\n",
       "      <td>1.0</td>\n",
       "      <td>1.0</td>\n",
       "      <td>1</td>\n",
       "    </tr>\n",
       "    <tr>\n",
       "      <th>1</th>\n",
       "      <td>8</td>\n",
       "      <td>8</td>\n",
       "      <td>0.307475</td>\n",
       "      <td>0.307475</td>\n",
       "      <td>1</td>\n",
       "      <td>8</td>\n",
       "      <td>0.999998</td>\n",
       "      <td>0.999998</td>\n",
       "      <td>1</td>\n",
       "    </tr>\n",
       "    <tr>\n",
       "      <th>6</th>\n",
       "      <td>1</td>\n",
       "      <td>1</td>\n",
       "      <td>0.407426</td>\n",
       "      <td>0.407426</td>\n",
       "      <td>1</td>\n",
       "      <td>1</td>\n",
       "      <td>0.999943</td>\n",
       "      <td>0.999943</td>\n",
       "      <td>1</td>\n",
       "    </tr>\n",
       "    <tr>\n",
       "      <th>9</th>\n",
       "      <td>1</td>\n",
       "      <td>1</td>\n",
       "      <td>0.523663</td>\n",
       "      <td>0.523663</td>\n",
       "      <td>1</td>\n",
       "      <td>1</td>\n",
       "      <td>0.985912</td>\n",
       "      <td>0.985912</td>\n",
       "      <td>1</td>\n",
       "    </tr>\n",
       "    <tr>\n",
       "      <th>11</th>\n",
       "      <td>9</td>\n",
       "      <td>9</td>\n",
       "      <td>0.427377</td>\n",
       "      <td>0.427377</td>\n",
       "      <td>1</td>\n",
       "      <td>9</td>\n",
       "      <td>1.0</td>\n",
       "      <td>1.0</td>\n",
       "      <td>1</td>\n",
       "    </tr>\n",
       "    <tr>\n",
       "      <th>...</th>\n",
       "      <td>...</td>\n",
       "      <td>...</td>\n",
       "      <td>...</td>\n",
       "      <td>...</td>\n",
       "      <td>...</td>\n",
       "      <td>...</td>\n",
       "      <td>...</td>\n",
       "      <td>...</td>\n",
       "      <td>...</td>\n",
       "    </tr>\n",
       "    <tr>\n",
       "      <th>283</th>\n",
       "      <td>1</td>\n",
       "      <td>1</td>\n",
       "      <td>0.723183</td>\n",
       "      <td>0.723183</td>\n",
       "      <td>1</td>\n",
       "      <td>1</td>\n",
       "      <td>1.0</td>\n",
       "      <td>1.0</td>\n",
       "      <td>1</td>\n",
       "    </tr>\n",
       "    <tr>\n",
       "      <th>285</th>\n",
       "      <td>9</td>\n",
       "      <td>9</td>\n",
       "      <td>0.541115</td>\n",
       "      <td>0.541115</td>\n",
       "      <td>1</td>\n",
       "      <td>9</td>\n",
       "      <td>1.0</td>\n",
       "      <td>1.0</td>\n",
       "      <td>1</td>\n",
       "    </tr>\n",
       "    <tr>\n",
       "      <th>289</th>\n",
       "      <td>9</td>\n",
       "      <td>9</td>\n",
       "      <td>0.527324</td>\n",
       "      <td>0.527324</td>\n",
       "      <td>1</td>\n",
       "      <td>9</td>\n",
       "      <td>1.0</td>\n",
       "      <td>1.0</td>\n",
       "      <td>1</td>\n",
       "    </tr>\n",
       "    <tr>\n",
       "      <th>290</th>\n",
       "      <td>1</td>\n",
       "      <td>1</td>\n",
       "      <td>0.579348</td>\n",
       "      <td>0.579348</td>\n",
       "      <td>1</td>\n",
       "      <td>1</td>\n",
       "      <td>1.0</td>\n",
       "      <td>1.0</td>\n",
       "      <td>1</td>\n",
       "    </tr>\n",
       "    <tr>\n",
       "      <th>294</th>\n",
       "      <td>3</td>\n",
       "      <td>3</td>\n",
       "      <td>0.351166</td>\n",
       "      <td>0.351166</td>\n",
       "      <td>1</td>\n",
       "      <td>3</td>\n",
       "      <td>1.0</td>\n",
       "      <td>1.0</td>\n",
       "      <td>1</td>\n",
       "    </tr>\n",
       "  </tbody>\n",
       "</table>\n",
       "<p>93 rows × 9 columns</p>\n",
       "</div>"
      ],
      "text/plain": [
       "    y_label y_A y_prob_correct_A  y_prob_A  A y_B y_prob_correct_B  y_prob_B  \\\n",
       "0         3   3         0.366576  0.366576  1   3              1.0       1.0   \n",
       "1         8   8         0.307475  0.307475  1   8         0.999998  0.999998   \n",
       "6         1   1         0.407426  0.407426  1   1         0.999943  0.999943   \n",
       "9         1   1         0.523663  0.523663  1   1         0.985912  0.985912   \n",
       "11        9   9         0.427377  0.427377  1   9              1.0       1.0   \n",
       "..      ...  ..              ...       ... ..  ..              ...       ...   \n",
       "283       1   1         0.723183  0.723183  1   1              1.0       1.0   \n",
       "285       9   9         0.541115  0.541115  1   9              1.0       1.0   \n",
       "289       9   9         0.527324  0.527324  1   9              1.0       1.0   \n",
       "290       1   1         0.579348  0.579348  1   1              1.0       1.0   \n",
       "294       3   3         0.351166  0.351166  1   3              1.0       1.0   \n",
       "\n",
       "     B  \n",
       "0    1  \n",
       "1    1  \n",
       "6    1  \n",
       "9    1  \n",
       "11   1  \n",
       "..  ..  \n",
       "283  1  \n",
       "285  1  \n",
       "289  1  \n",
       "290  1  \n",
       "294  1  \n",
       "\n",
       "[93 rows x 9 columns]"
      ]
     },
     "execution_count": 251,
     "metadata": {},
     "output_type": "execute_result"
    }
   ],
   "source": [
    "A_correct_B_correct"
   ]
  },
  {
   "cell_type": "markdown",
   "id": "d94ec1c1",
   "metadata": {},
   "source": [
    "# Check individual Results\n",
    "----"
   ]
  },
  {
   "cell_type": "markdown",
   "id": "e981ffd5",
   "metadata": {},
   "source": [
    "## Sample: A_wrong_B_wrong"
   ]
  },
  {
   "cell_type": "code",
   "execution_count": 243,
   "id": "16f41f2e",
   "metadata": {},
   "outputs": [
    {
     "name": "stdout",
     "output_type": "stream",
     "text": [
      "Label = Bird, 2\n",
      "Predicted = Car , 1\n"
     ]
    },
    {
     "data": {
      "image/png": "[encoded data removed]",
      "text/plain": [
       "<Figure size 432x288 with 1 Axes>"
      ]
     },
     "metadata": {
      "needs_background": "light"
     },
     "output_type": "display_data"
    }
   ],
   "source": [
    "check_results(35, results, 'A')"
   ]
  },
  {
   "cell_type": "code",
   "execution_count": 244,
   "id": "563dc5d8",
   "metadata": {},
   "outputs": [
    {
     "name": "stdout",
     "output_type": "stream",
     "text": [
      "Label = Bird, 2\n",
      "Predicted = Car , 1\n"
     ]
    },
    {
     "data": {
      "image/png": "[encoded data removed]",
      "text/plain": [
       "<Figure size 432x288 with 1 Axes>"
      ]
     },
     "metadata": {
      "needs_background": "light"
     },
     "output_type": "display_data"
    }
   ],
   "source": [
    "check_results(35, results, 'B')"
   ]
  },
  {
   "cell_type": "markdown",
   "id": "95599488",
   "metadata": {},
   "source": [
    "## Sample: A_wrong_B_correct"
   ]
  },
  {
   "cell_type": "code",
   "execution_count": 245,
   "id": "fc640085",
   "metadata": {},
   "outputs": [
    {
     "name": "stdout",
     "output_type": "stream",
     "text": [
      "Label = Frog, 6\n",
      "Predicted = Car , 1\n"
     ]
    },
    {
     "data": {
      "image/png": "[encoded data removed]",
      "text/plain": [
       "<Figure size 432x288 with 1 Axes>"
      ]
     },
     "metadata": {
      "needs_background": "light"
     },
     "output_type": "display_data"
    }
   ],
   "source": [
    "check_results(5, results, 'A')"
   ]
  },
  {
   "cell_type": "code",
   "execution_count": 246,
   "id": "bef682f3",
   "metadata": {},
   "outputs": [
    {
     "name": "stdout",
     "output_type": "stream",
     "text": [
      "Label = Frog, 6\n",
      "Predicted = Frog , 6\n"
     ]
    },
    {
     "data": {
      "image/png": "[encoded data removed]",
      "text/plain": [
       "<Figure size 432x288 with 1 Axes>"
      ]
     },
     "metadata": {
      "needs_background": "light"
     },
     "output_type": "display_data"
    }
   ],
   "source": [
    "check_results(5, results, 'B')"
   ]
  },
  {
   "cell_type": "markdown",
   "id": "a806fc3a",
   "metadata": {},
   "source": [
    "## Sample: A_correct_B_wrong"
   ]
  },
  {
   "cell_type": "code",
   "execution_count": 249,
   "id": "a8d3b3ee",
   "metadata": {},
   "outputs": [
    {
     "name": "stdout",
     "output_type": "stream",
     "text": [
      "Label = Dog, 5\n",
      "Predicted = Dog , 5\n"
     ]
    },
    {
     "data": {
      "image/png": "[encoded data removed]",
      "text/plain": [
       "<Figure size 432x288 with 1 Axes>"
      ]
     },
     "metadata": {
      "needs_background": "light"
     },
     "output_type": "display_data"
    }
   ],
   "source": [
    "check_results(12, results, 'A')"
   ]
  },
  {
   "cell_type": "code",
   "execution_count": 250,
   "id": "c5df2066",
   "metadata": {},
   "outputs": [
    {
     "name": "stdout",
     "output_type": "stream",
     "text": [
      "Label = Dog, 5\n",
      "Predicted = Cat , 3\n"
     ]
    },
    {
     "data": {
      "image/png": "[encoded data removed]",
      "text/plain": [
       "<Figure size 432x288 with 1 Axes>"
      ]
     },
     "metadata": {
      "needs_background": "light"
     },
     "output_type": "display_data"
    }
   ],
   "source": [
    "check_results(12, results, 'B')"
   ]
  },
  {
   "cell_type": "markdown",
   "id": "e0f8d6cc",
   "metadata": {},
   "source": [
    "## Sample: A_correct_B_correct"
   ]
  },
  {
   "cell_type": "code",
   "execution_count": 253,
   "id": "a743fcfd",
   "metadata": {},
   "outputs": [
    {
     "name": "stdout",
     "output_type": "stream",
     "text": [
      "Label = Car, 1\n",
      "Predicted = Car , 1\n"
     ]
    },
    {
     "data": {
      "image/png": "[encoded data removed]",
      "text/plain": [
       "<Figure size 432x288 with 1 Axes>"
      ]
     },
     "metadata": {
      "needs_background": "light"
     },
     "output_type": "display_data"
    }
   ],
   "source": [
    "check_results(9, results, 'A')"
   ]
  },
  {
   "cell_type": "code",
   "execution_count": 254,
   "id": "e251ccc6",
   "metadata": {},
   "outputs": [
    {
     "name": "stdout",
     "output_type": "stream",
     "text": [
      "Label = Car, 1\n",
      "Predicted = Car , 1\n"
     ]
    },
    {
     "data": {
      "image/png": "[encoded data removed]",
      "text/plain": [
       "<Figure size 432x288 with 1 Axes>"
      ]
     },
     "metadata": {
      "needs_background": "light"
     },
     "output_type": "display_data"
    }
   ],
   "source": [
    "check_results(9, results, 'B')"
   ]
  },
  {
   "cell_type": "code",
   "execution_count": null,
   "id": "6bdece53",
   "metadata": {},
   "outputs": [],
   "source": []
  }
 ],
 "metadata": {
  "kernelspec": {
   "display_name": "Python 3 (ipykernel)",
   "language": "python",
   "name": "python3"
  },
  "language_info": {
   "codemirror_mode": {
    "name": "ipython",
    "version": 3
   },
   "file_extension": ".py",
   "mimetype": "text/x-python",
   "name": "python",
   "nbconvert_exporter": "python",
   "pygments_lexer": "ipython3",
   "version": "3.7.13"
  }
 },
 "nbformat": 4,
 "nbformat_minor": 5
}
