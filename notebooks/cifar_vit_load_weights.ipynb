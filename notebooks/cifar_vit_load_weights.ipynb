{
  "cells": [
    {
      "cell_type": "markdown",
      "metadata": {
        "id": "view-in-github",
        "colab_type": "text"
      },
      "source": [
        "<a href=\"https://colab.research.google.com/github/roldanjrgl/ml_project/blob/main/notebooks/cifar_vit_load_weights.ipynb\" target=\"_parent\"><img src=\"https://colab.research.google.com/assets/colab-badge.svg\" alt=\"Open In Colab\"/></a>"
      ]
    },
    {
      "cell_type": "code",
      "execution_count": 1,
      "id": "f3ec2d2b",
      "metadata": {
        "id": "f3ec2d2b"
      },
      "outputs": [],
      "source": [
        "import torchvision.datasets as dsets\n",
        "import torchvision.transforms as transforms\n",
        "# testing change and committing form google colab \n",
        "# commit from notebook saved on drive"
      ]
    },
    {
      "cell_type": "code",
      "execution_count": null,
      "id": "1c73d120",
      "metadata": {
        "id": "1c73d120"
      },
      "outputs": [],
      "source": [
        "# Transformations, same as the ViT training scripts if without autoaug policy\n",
        "transform_train = transforms.Compose([\n",
        "    transforms.RandomCrop(32, padding=4),\n",
        "    transforms.RandomHorizontalFlip(),\n",
        "    transforms.ToTensor(),\n",
        "    transforms.Normalize((0.4914, 0.4822, 0.4465), (0.2023, 0.1994, 0.2010)),\n",
        "])\n",
        "transform_test = transforms.Compose([\n",
        "    transforms.ToTensor(),\n",
        "    transforms.Normalize((0.4914, 0.4822, 0.4465), (0.2023, 0.1994, 0.2010)),\n",
        "])"
      ]
    },
    {
      "cell_type": "code",
      "execution_count": null,
      "id": "4f54c46d",
      "metadata": {
        "id": "4f54c46d",
        "outputId": "bcce9560-26fb-43da-cf39-3097a6759ece"
      },
      "outputs": [
        {
          "name": "stdout",
          "output_type": "stream",
          "text": [
            "Files already downloaded and verified\n",
            "Files already downloaded and verified\n"
          ]
        }
      ],
      "source": [
        "# Load train set\n",
        "train_set = dsets.CIFAR10('../data', train=True, download=True, transform=transform_train)\n",
        "\n",
        "# Load test set (using as validation)\n",
        "val_set = dsets.CIFAR10('../data', train=False, download=True, transform=transform_test)"
      ]
    },
    {
      "cell_type": "markdown",
      "id": "d2ec54b9",
      "metadata": {
        "id": "d2ec54b9"
      },
      "source": [
        "# train vit model on cifar-10"
      ]
    },
    {
      "cell_type": "code",
      "execution_count": null,
      "id": "cb842478",
      "metadata": {
        "id": "cb842478"
      },
      "outputs": [],
      "source": [
        "import torch\n",
        "import torch.nn as nn\n",
        "import torch.optim as optim\n",
        "import numpy as np\n",
        "import os.path\n",
        "from torch.utils.data import DataLoader\n",
        "from tqdm.auto import tqdm"
      ]
    },
    {
      "cell_type": "code",
      "execution_count": null,
      "id": "10684675",
      "metadata": {
        "id": "10684675"
      },
      "outputs": [],
      "source": [
        "from copy import deepcopy"
      ]
    },
    {
      "cell_type": "code",
      "execution_count": null,
      "id": "a2204415",
      "metadata": {
        "id": "a2204415"
      },
      "outputs": [],
      "source": [
        "# Select device\n",
        "device = torch.device('cuda:0')"
      ]
    },
    {
      "cell_type": "markdown",
      "id": "24f11265",
      "metadata": {
        "id": "24f11265"
      },
      "source": [
        "### training of the original model (ViT but lighter) is handled by the scripts in directory ViT-CIFAR\n",
        "\n",
        "we just need to load the model here"
      ]
    },
    {
      "cell_type": "code",
      "execution_count": null,
      "id": "2a9cd9d5",
      "metadata": {
        "id": "2a9cd9d5"
      },
      "outputs": [],
      "source": [
        "from vit import ViT"
      ]
    },
    {
      "cell_type": "code",
      "execution_count": null,
      "id": "c314cfb5",
      "metadata": {
        "id": "c314cfb5"
      },
      "outputs": [],
      "source": [
        "model_path = 'cifar_c10_vit.pt'"
      ]
    },
    {
      "cell_type": "code",
      "execution_count": null,
      "id": "569b7f57",
      "metadata": {
        "id": "569b7f57",
        "outputId": "ad9587ba-26dd-4a9e-ed2a-5cdd77c91231"
      },
      "outputs": [
        {
          "name": "stdout",
          "output_type": "stream",
          "text": [
            "Loading saved model\n"
          ]
        }
      ],
      "source": [
        "if os.path.isfile(model_path):\n",
        "    # load saved model\n",
        "    print(\"Loading saved model\")\n",
        "    model = torch.load(model_path).to(device)\n",
        "else:\n",
        "    # Create model from trained\n",
        "    print(\"Creating model, from elsewhere pretrained\")\n",
        "    model = ViT(in_c = 3, num_classes=10, img_size=32, patch=8, dropout=0.0, num_layers=7,\n",
        "           hidden=384, mlp_hidden=384, head=12, is_cls_token=True)\n",
        "    loaded = torch.load(\"../ViT-CIFAR/weights/vit_c10_aa_ls_note_oriforFastSHAP.pth\")\n",
        "    model_states = {key[6:]:loaded[key] for key in loaded}\n",
        "    model.load_state_dict(model_states)\n",
        "    model = model.to(device)"
      ]
    },
    {
      "cell_type": "markdown",
      "id": "27cc36e7",
      "metadata": {
        "id": "27cc36e7"
      },
      "source": [
        "SAME as the resnet model, ViT model outputs unnormalized logits (scores) for each class, which serve as inputs to the Cross Entropy Loss"
      ]
    },
    {
      "cell_type": "code",
      "execution_count": null,
      "id": "fad52525",
      "metadata": {
        "id": "fad52525"
      },
      "outputs": [],
      "source": [
        "torch.save(model.cpu(), model_path)"
      ]
    },
    {
      "cell_type": "markdown",
      "id": "fad1e43f",
      "metadata": {
        "id": "fad1e43f"
      },
      "source": [
        "# train surrogates"
      ]
    },
    {
      "cell_type": "code",
      "execution_count": null,
      "id": "5ff9508c",
      "metadata": {
        "id": "5ff9508c"
      },
      "outputs": [],
      "source": [
        "from fastshap import ImageSurrogate\n",
        "from fastshap.utils import MaskLayer2d, DatasetInputOnly, KLDivLoss"
      ]
    },
    {
      "cell_type": "code",
      "execution_count": null,
      "id": "108624d9",
      "metadata": {
        "id": "108624d9"
      },
      "outputs": [],
      "source": [
        "surr_model_path = 'cifar_c10_vit_surrogate_lb20.pt'"
      ]
    },
    {
      "cell_type": "code",
      "execution_count": null,
      "id": "9c2c6e3d",
      "metadata": {
        "id": "9c2c6e3d",
        "outputId": "0d6e2e59-8957-4798-8d8d-c0b6b1af8d9a"
      },
      "outputs": [
        {
          "name": "stdout",
          "output_type": "stream",
          "text": [
            "Loading saved surrogate model\n"
          ]
        }
      ],
      "source": [
        "# Check for model\n",
        "if os.path.isfile(surr_model_path):\n",
        "    print('Loading saved surrogate model')\n",
        "    surr = torch.load(surr_model_path).to(device)\n",
        "    surrogate = ImageSurrogate(surr, width=32, height=32, superpixel_size=2)\n",
        "else:\n",
        "    print(\"Creating new surrogate model\")\n",
        "    surr = nn.Sequential(\n",
        "        MaskLayer2d(value=0, append=True),\n",
        "        ViT(in_c = 4, num_classes=10, img_size=32, patch=8, dropout=0.0, num_layers=7,\n",
        "        hidden=384, mlp_hidden=384, head=12, is_cls_token=True)).to(device)\n",
        "    # Set up surrogate object\n",
        "    surrogate = ImageSurrogate(surr, width=32, height=32, superpixel_size=2)"
      ]
    },
    {
      "cell_type": "code",
      "execution_count": null,
      "id": "be070551",
      "metadata": {
        "id": "be070551"
      },
      "outputs": [],
      "source": [
        "# to retrain just go from here \n",
        "# print(\"Creating new surrogate model\")\n",
        "# surr = nn.Sequential(\n",
        "#     MaskLayer2d(value=0, append=True),\n",
        "#     ViT(in_c = 4, num_classes=10, img_size=32, patch=8, dropout=0.0, num_layers=7,\n",
        "#     hidden=384, mlp_hidden=384, head=12, is_cls_token=True)).to(device)\n",
        "# # Set up surrogate object\n",
        "# surrogate = ImageSurrogate(surr, width=32, height=32, superpixel_size=2)"
      ]
    },
    {
      "cell_type": "code",
      "execution_count": null,
      "id": "d2488eeb",
      "metadata": {
        "id": "d2488eeb"
      },
      "outputs": [],
      "source": [
        "# Set up datasets\n",
        "train_surr = DatasetInputOnly(train_set)\n",
        "val_surr = DatasetInputOnly(val_set)\n",
        "original_model = nn.Sequential(model, nn.Softmax(dim=1)).to(device)"
      ]
    },
    {
      "cell_type": "code",
      "execution_count": null,
      "id": "0d391ccc",
      "metadata": {
        "colab": {
          "referenced_widgets": [
            "af2450668f7e4bd69491dbb3b3c06226",
            "21da92e9f1b04f1ba0f435f5caa6649e",
            "272de78bc9e3428fbc384f75d6dbb3d4",
            "20ca6776194a45bd894a3bf392160c99",
            "b76393241a3c443387852dd2e05d2204",
            "2f0ffb83168242709e341c60cca15c47",
            "3f54b0c2dda542959e7ffe4d0c7947a0",
            "0f7be823043f4a7c9a5a38383d30b5d7",
            "867bd72428934f859e005fd4e2a09b7f",
            "5d009ac1ba50458b944dce29df76a060",
            "835abe6835da4e99994670842b8a7f8e",
            "485f07984b624c388b6cd880f8fb6dc2",
            "46e10e1eab0c4e9c91902747279c7c28",
            "85a4da7e311c4c689115c4082cdb4863",
            "f847906990ab405aab6637f122c8f9f5",
            "8e65c6b471224fcdbcfa81de29125426",
            "459ec738398f498d8193910226096851",
            "695b49dfc3134c8e89db30b7efb1146c",
            "22e356ed7a9e462487afb492650afb40",
            "699c6357502042d3a0d62e5dc28c9717",
            "34ab834f2ebd43b1a2d12373a7789ec7",
            "98d42515f359454b8c1658aeb24e2f4e",
            "fc883191069344e59079eef943bf0be7",
            "75f27b3c6c1e441cae739929b8667f68",
            "0e133e6740cc48399b5f87b80dd5f0ee",
            "e764b388a9f94c3ab51bf70697414e04",
            "46922b67825543ff8327e08495a23e29",
            "a0feace73fb3476b89d45e206646d24e",
            "1854e66ea2c746d496fa2168b3a70396",
            "c7677fbb0a5844b695c3d001b016d703",
            "c4ad32d455a14fd587483f9e23c98735",
            "2e9a703433e6498b895b03d3abd57583",
            "d0a287ef9d53483b90d5f11c69db2d19",
            "3863a1942c204e49a96bd393efe7714f",
            "f183604913624bbfa70c62c88fd59e3f",
            "1ca0b5891b774f13bf8f962d3832143c",
            "d5eb98df5a184becb32b009f7838c15f",
            "a38cd60795124cdb8f63b49b0b0708bf",
            "30a200e732b54c7fb328d786f8ba0bed",
            "7a4b41c916744853a2740c2639c4c18b",
            "088366040fd94879b8e5aaf1be661cf0",
            "b36d676fd5be4222ab2ea3f993b5cb83",
            "fa450b8c5bd74daeb236d42ae65dabe3",
            "30c615d035224289af2fd537b88fa24b",
            "c3e4235dbfb440fab075cbdaaccb2203",
            "a1fae4a21c604496809fa1eff4c44226",
            "54f538e0a45e41beadd26199bbb9dc27",
            "ae34e1dbf3174f5a905ca5b05840c200",
            "fff9b0ece9794e6fb46dbddd0785e4ac",
            "57b4c69704764d13851d365d33e47039",
            "190c4c1c4d284d94af28bc5200074ea9",
            "5b3a62c20aa946bfb4bfef91e9356566",
            "cbae0a363e344a53929cce34f090ffba"
          ]
        },
        "id": "0d391ccc",
        "outputId": "a21e73ef-f895-46b6-ea59-be7aef241744"
      },
      "outputs": [
        {
          "data": {
            "application/vnd.jupyter.widget-view+json": {
              "model_id": "af2450668f7e4bd69491dbb3b3c06226",
              "version_major": 2,
              "version_minor": 0
            },
            "text/plain": [
              "Training epoch:   0%|          | 0/196 [00:00<?, ?it/s]"
            ]
          },
          "metadata": {},
          "output_type": "display_data"
        },
        {
          "name": "stdout",
          "output_type": "stream",
          "text": [
            "----- Epoch = 1 -----\n",
            "Val loss = 1.6505\n",
            "\n",
            "New best epoch, loss = 1.6505\n",
            "\n"
          ]
        },
        {
          "data": {
            "application/vnd.jupyter.widget-view+json": {
              "model_id": "21da92e9f1b04f1ba0f435f5caa6649e",
              "version_major": 2,
              "version_minor": 0
            },
            "text/plain": [
              "Training epoch:   0%|          | 0/196 [00:00<?, ?it/s]"
            ]
          },
          "metadata": {},
          "output_type": "display_data"
        },
        {
          "name": "stdout",
          "output_type": "stream",
          "text": [
            "----- Epoch = 2 -----\n",
            "Val loss = 1.4880\n",
            "\n",
            "New best epoch, loss = 1.4880\n",
            "\n"
          ]
        },
        {
          "data": {
            "application/vnd.jupyter.widget-view+json": {
              "model_id": "272de78bc9e3428fbc384f75d6dbb3d4",
              "version_major": 2,
              "version_minor": 0
            },
            "text/plain": [
              "Training epoch:   0%|          | 0/196 [00:00<?, ?it/s]"
            ]
          },
          "metadata": {},
          "output_type": "display_data"
        },
        {
          "name": "stdout",
          "output_type": "stream",
          "text": [
            "----- Epoch = 3 -----\n",
            "Val loss = 1.3444\n",
            "\n",
            "New best epoch, loss = 1.3444\n",
            "\n"
          ]
        },
        {
          "data": {
            "application/vnd.jupyter.widget-view+json": {
              "model_id": "20ca6776194a45bd894a3bf392160c99",
              "version_major": 2,
              "version_minor": 0
            },
            "text/plain": [
              "Training epoch:   0%|          | 0/196 [00:00<?, ?it/s]"
            ]
          },
          "metadata": {},
          "output_type": "display_data"
        },
        {
          "name": "stdout",
          "output_type": "stream",
          "text": [
            "----- Epoch = 4 -----\n",
            "Val loss = 1.2947\n",
            "\n",
            "New best epoch, loss = 1.2947\n",
            "\n"
          ]
        },
        {
          "data": {
            "application/vnd.jupyter.widget-view+json": {
              "model_id": "b76393241a3c443387852dd2e05d2204",
              "version_major": 2,
              "version_minor": 0
            },
            "text/plain": [
              "Training epoch:   0%|          | 0/196 [00:00<?, ?it/s]"
            ]
          },
          "metadata": {},
          "output_type": "display_data"
        },
        {
          "name": "stdout",
          "output_type": "stream",
          "text": [
            "----- Epoch = 5 -----\n",
            "Val loss = 1.2671\n",
            "\n",
            "New best epoch, loss = 1.2671\n",
            "\n"
          ]
        },
        {
          "data": {
            "application/vnd.jupyter.widget-view+json": {
              "model_id": "2f0ffb83168242709e341c60cca15c47",
              "version_major": 2,
              "version_minor": 0
            },
            "text/plain": [
              "Training epoch:   0%|          | 0/196 [00:00<?, ?it/s]"
            ]
          },
          "metadata": {},
          "output_type": "display_data"
        },
        {
          "name": "stdout",
          "output_type": "stream",
          "text": [
            "----- Epoch = 6 -----\n",
            "Val loss = 1.1874\n",
            "\n",
            "New best epoch, loss = 1.1874\n",
            "\n"
          ]
        },
        {
          "data": {
            "application/vnd.jupyter.widget-view+json": {
              "model_id": "3f54b0c2dda542959e7ffe4d0c7947a0",
              "version_major": 2,
              "version_minor": 0
            },
            "text/plain": [
              "Training epoch:   0%|          | 0/196 [00:00<?, ?it/s]"
            ]
          },
          "metadata": {},
          "output_type": "display_data"
        },
        {
          "name": "stdout",
          "output_type": "stream",
          "text": [
            "----- Epoch = 7 -----\n",
            "Val loss = 1.1752\n",
            "\n",
            "New best epoch, loss = 1.1752\n",
            "\n"
          ]
        },
        {
          "data": {
            "application/vnd.jupyter.widget-view+json": {
              "model_id": "0f7be823043f4a7c9a5a38383d30b5d7",
              "version_major": 2,
              "version_minor": 0
            },
            "text/plain": [
              "Training epoch:   0%|          | 0/196 [00:00<?, ?it/s]"
            ]
          },
          "metadata": {},
          "output_type": "display_data"
        },
        {
          "name": "stdout",
          "output_type": "stream",
          "text": [
            "----- Epoch = 8 -----\n",
            "Val loss = 1.1351\n",
            "\n",
            "New best epoch, loss = 1.1351\n",
            "\n"
          ]
        },
        {
          "data": {
            "application/vnd.jupyter.widget-view+json": {
              "model_id": "867bd72428934f859e005fd4e2a09b7f",
              "version_major": 2,
              "version_minor": 0
            },
            "text/plain": [
              "Training epoch:   0%|          | 0/196 [00:00<?, ?it/s]"
            ]
          },
          "metadata": {},
          "output_type": "display_data"
        },
        {
          "name": "stdout",
          "output_type": "stream",
          "text": [
            "----- Epoch = 9 -----\n",
            "Val loss = 1.1042\n",
            "\n",
            "New best epoch, loss = 1.1042\n",
            "\n"
          ]
        },
        {
          "data": {
            "application/vnd.jupyter.widget-view+json": {
              "model_id": "5d009ac1ba50458b944dce29df76a060",
              "version_major": 2,
              "version_minor": 0
            },
            "text/plain": [
              "Training epoch:   0%|          | 0/196 [00:00<?, ?it/s]"
            ]
          },
          "metadata": {},
          "output_type": "display_data"
        },
        {
          "name": "stdout",
          "output_type": "stream",
          "text": [
            "----- Epoch = 10 -----\n",
            "Val loss = 1.0675\n",
            "\n",
            "New best epoch, loss = 1.0675\n",
            "\n"
          ]
        },
        {
          "data": {
            "application/vnd.jupyter.widget-view+json": {
              "model_id": "835abe6835da4e99994670842b8a7f8e",
              "version_major": 2,
              "version_minor": 0
            },
            "text/plain": [
              "Training epoch:   0%|          | 0/196 [00:00<?, ?it/s]"
            ]
          },
          "metadata": {},
          "output_type": "display_data"
        },
        {
          "name": "stdout",
          "output_type": "stream",
          "text": [
            "----- Epoch = 11 -----\n",
            "Val loss = 1.0382\n",
            "\n",
            "New best epoch, loss = 1.0382\n",
            "\n"
          ]
        },
        {
          "data": {
            "application/vnd.jupyter.widget-view+json": {
              "model_id": "485f07984b624c388b6cd880f8fb6dc2",
              "version_major": 2,
              "version_minor": 0
            },
            "text/plain": [
              "Training epoch:   0%|          | 0/196 [00:00<?, ?it/s]"
            ]
          },
          "metadata": {},
          "output_type": "display_data"
        },
        {
          "name": "stdout",
          "output_type": "stream",
          "text": [
            "----- Epoch = 12 -----\n",
            "Val loss = 1.0431\n",
            "\n"
          ]
        },
        {
          "data": {
            "application/vnd.jupyter.widget-view+json": {
              "model_id": "46e10e1eab0c4e9c91902747279c7c28",
              "version_major": 2,
              "version_minor": 0
            },
            "text/plain": [
              "Training epoch:   0%|          | 0/196 [00:00<?, ?it/s]"
            ]
          },
          "metadata": {},
          "output_type": "display_data"
        },
        {
          "name": "stdout",
          "output_type": "stream",
          "text": [
            "----- Epoch = 13 -----\n",
            "Val loss = 1.0055\n",
            "\n",
            "New best epoch, loss = 1.0055\n",
            "\n"
          ]
        },
        {
          "data": {
            "application/vnd.jupyter.widget-view+json": {
              "model_id": "85a4da7e311c4c689115c4082cdb4863",
              "version_major": 2,
              "version_minor": 0
            },
            "text/plain": [
              "Training epoch:   0%|          | 0/196 [00:00<?, ?it/s]"
            ]
          },
          "metadata": {},
          "output_type": "display_data"
        },
        {
          "name": "stdout",
          "output_type": "stream",
          "text": [
            "----- Epoch = 14 -----\n",
            "Val loss = 0.9852\n",
            "\n",
            "New best epoch, loss = 0.9852\n",
            "\n"
          ]
        },
        {
          "data": {
            "application/vnd.jupyter.widget-view+json": {
              "model_id": "f847906990ab405aab6637f122c8f9f5",
              "version_major": 2,
              "version_minor": 0
            },
            "text/plain": [
              "Training epoch:   0%|          | 0/196 [00:00<?, ?it/s]"
            ]
          },
          "metadata": {},
          "output_type": "display_data"
        },
        {
          "name": "stdout",
          "output_type": "stream",
          "text": [
            "----- Epoch = 15 -----\n",
            "Val loss = 1.0188\n",
            "\n"
          ]
        },
        {
          "data": {
            "application/vnd.jupyter.widget-view+json": {
              "model_id": "8e65c6b471224fcdbcfa81de29125426",
              "version_major": 2,
              "version_minor": 0
            },
            "text/plain": [
              "Training epoch:   0%|          | 0/196 [00:00<?, ?it/s]"
            ]
          },
          "metadata": {},
          "output_type": "display_data"
        },
        {
          "name": "stdout",
          "output_type": "stream",
          "text": [
            "----- Epoch = 16 -----\n",
            "Val loss = 0.9484\n",
            "\n",
            "New best epoch, loss = 0.9484\n",
            "\n"
          ]
        },
        {
          "data": {
            "application/vnd.jupyter.widget-view+json": {
              "model_id": "459ec738398f498d8193910226096851",
              "version_major": 2,
              "version_minor": 0
            },
            "text/plain": [
              "Training epoch:   0%|          | 0/196 [00:00<?, ?it/s]"
            ]
          },
          "metadata": {},
          "output_type": "display_data"
        },
        {
          "name": "stdout",
          "output_type": "stream",
          "text": [
            "----- Epoch = 17 -----\n",
            "Val loss = 0.9447\n",
            "\n",
            "New best epoch, loss = 0.9447\n",
            "\n"
          ]
        },
        {
          "data": {
            "application/vnd.jupyter.widget-view+json": {
              "model_id": "695b49dfc3134c8e89db30b7efb1146c",
              "version_major": 2,
              "version_minor": 0
            },
            "text/plain": [
              "Training epoch:   0%|          | 0/196 [00:00<?, ?it/s]"
            ]
          },
          "metadata": {},
          "output_type": "display_data"
        },
        {
          "name": "stdout",
          "output_type": "stream",
          "text": [
            "----- Epoch = 18 -----\n",
            "Val loss = 0.9204\n",
            "\n",
            "New best epoch, loss = 0.9204\n",
            "\n"
          ]
        },
        {
          "data": {
            "application/vnd.jupyter.widget-view+json": {
              "model_id": "22e356ed7a9e462487afb492650afb40",
              "version_major": 2,
              "version_minor": 0
            },
            "text/plain": [
              "Training epoch:   0%|          | 0/196 [00:00<?, ?it/s]"
            ]
          },
          "metadata": {},
          "output_type": "display_data"
        },
        {
          "name": "stdout",
          "output_type": "stream",
          "text": [
            "----- Epoch = 19 -----\n",
            "Val loss = 0.9370\n",
            "\n"
          ]
        },
        {
          "data": {
            "application/vnd.jupyter.widget-view+json": {
              "model_id": "699c6357502042d3a0d62e5dc28c9717",
              "version_major": 2,
              "version_minor": 0
            },
            "text/plain": [
              "Training epoch:   0%|          | 0/196 [00:00<?, ?it/s]"
            ]
          },
          "metadata": {},
          "output_type": "display_data"
        },
        {
          "name": "stdout",
          "output_type": "stream",
          "text": [
            "----- Epoch = 20 -----\n",
            "Val loss = 0.8849\n",
            "\n",
            "New best epoch, loss = 0.8849\n",
            "\n"
          ]
        },
        {
          "data": {
            "application/vnd.jupyter.widget-view+json": {
              "model_id": "34ab834f2ebd43b1a2d12373a7789ec7",
              "version_major": 2,
              "version_minor": 0
            },
            "text/plain": [
              "Training epoch:   0%|          | 0/196 [00:00<?, ?it/s]"
            ]
          },
          "metadata": {},
          "output_type": "display_data"
        },
        {
          "name": "stdout",
          "output_type": "stream",
          "text": [
            "----- Epoch = 21 -----\n",
            "Val loss = 0.8934\n",
            "\n"
          ]
        },
        {
          "data": {
            "application/vnd.jupyter.widget-view+json": {
              "model_id": "98d42515f359454b8c1658aeb24e2f4e",
              "version_major": 2,
              "version_minor": 0
            },
            "text/plain": [
              "Training epoch:   0%|          | 0/196 [00:00<?, ?it/s]"
            ]
          },
          "metadata": {},
          "output_type": "display_data"
        },
        {
          "name": "stdout",
          "output_type": "stream",
          "text": [
            "----- Epoch = 22 -----\n",
            "Val loss = 0.8837\n",
            "\n",
            "New best epoch, loss = 0.8837\n",
            "\n"
          ]
        },
        {
          "data": {
            "application/vnd.jupyter.widget-view+json": {
              "model_id": "fc883191069344e59079eef943bf0be7",
              "version_major": 2,
              "version_minor": 0
            },
            "text/plain": [
              "Training epoch:   0%|          | 0/196 [00:00<?, ?it/s]"
            ]
          },
          "metadata": {},
          "output_type": "display_data"
        },
        {
          "name": "stdout",
          "output_type": "stream",
          "text": [
            "----- Epoch = 23 -----\n",
            "Val loss = 0.8584\n",
            "\n",
            "New best epoch, loss = 0.8584\n",
            "\n"
          ]
        },
        {
          "data": {
            "application/vnd.jupyter.widget-view+json": {
              "model_id": "75f27b3c6c1e441cae739929b8667f68",
              "version_major": 2,
              "version_minor": 0
            },
            "text/plain": [
              "Training epoch:   0%|          | 0/196 [00:00<?, ?it/s]"
            ]
          },
          "metadata": {},
          "output_type": "display_data"
        },
        {
          "name": "stdout",
          "output_type": "stream",
          "text": [
            "----- Epoch = 24 -----\n",
            "Val loss = 0.8644\n",
            "\n"
          ]
        },
        {
          "data": {
            "application/vnd.jupyter.widget-view+json": {
              "model_id": "0e133e6740cc48399b5f87b80dd5f0ee",
              "version_major": 2,
              "version_minor": 0
            },
            "text/plain": [
              "Training epoch:   0%|          | 0/196 [00:00<?, ?it/s]"
            ]
          },
          "metadata": {},
          "output_type": "display_data"
        },
        {
          "name": "stdout",
          "output_type": "stream",
          "text": [
            "----- Epoch = 25 -----\n",
            "Val loss = 0.8517\n",
            "\n",
            "New best epoch, loss = 0.8517\n",
            "\n"
          ]
        },
        {
          "data": {
            "application/vnd.jupyter.widget-view+json": {
              "model_id": "e764b388a9f94c3ab51bf70697414e04",
              "version_major": 2,
              "version_minor": 0
            },
            "text/plain": [
              "Training epoch:   0%|          | 0/196 [00:00<?, ?it/s]"
            ]
          },
          "metadata": {},
          "output_type": "display_data"
        },
        {
          "name": "stdout",
          "output_type": "stream",
          "text": [
            "----- Epoch = 26 -----\n",
            "Val loss = 0.8533\n",
            "\n"
          ]
        },
        {
          "data": {
            "application/vnd.jupyter.widget-view+json": {
              "model_id": "46922b67825543ff8327e08495a23e29",
              "version_major": 2,
              "version_minor": 0
            },
            "text/plain": [
              "Training epoch:   0%|          | 0/196 [00:00<?, ?it/s]"
            ]
          },
          "metadata": {},
          "output_type": "display_data"
        },
        {
          "name": "stdout",
          "output_type": "stream",
          "text": [
            "----- Epoch = 27 -----\n",
            "Val loss = 0.8407\n",
            "\n",
            "New best epoch, loss = 0.8407\n",
            "\n"
          ]
        },
        {
          "data": {
            "application/vnd.jupyter.widget-view+json": {
              "model_id": "a0feace73fb3476b89d45e206646d24e",
              "version_major": 2,
              "version_minor": 0
            },
            "text/plain": [
              "Training epoch:   0%|          | 0/196 [00:00<?, ?it/s]"
            ]
          },
          "metadata": {},
          "output_type": "display_data"
        },
        {
          "name": "stdout",
          "output_type": "stream",
          "text": [
            "----- Epoch = 28 -----\n",
            "Val loss = 0.8375\n",
            "\n",
            "New best epoch, loss = 0.8375\n",
            "\n"
          ]
        },
        {
          "data": {
            "application/vnd.jupyter.widget-view+json": {
              "model_id": "1854e66ea2c746d496fa2168b3a70396",
              "version_major": 2,
              "version_minor": 0
            },
            "text/plain": [
              "Training epoch:   0%|          | 0/196 [00:00<?, ?it/s]"
            ]
          },
          "metadata": {},
          "output_type": "display_data"
        },
        {
          "name": "stdout",
          "output_type": "stream",
          "text": [
            "----- Epoch = 29 -----\n",
            "Val loss = 0.8287\n",
            "\n",
            "New best epoch, loss = 0.8287\n",
            "\n"
          ]
        },
        {
          "data": {
            "application/vnd.jupyter.widget-view+json": {
              "model_id": "c7677fbb0a5844b695c3d001b016d703",
              "version_major": 2,
              "version_minor": 0
            },
            "text/plain": [
              "Training epoch:   0%|          | 0/196 [00:00<?, ?it/s]"
            ]
          },
          "metadata": {},
          "output_type": "display_data"
        },
        {
          "name": "stdout",
          "output_type": "stream",
          "text": [
            "----- Epoch = 30 -----\n",
            "Val loss = 0.8730\n",
            "\n"
          ]
        },
        {
          "data": {
            "application/vnd.jupyter.widget-view+json": {
              "model_id": "c4ad32d455a14fd587483f9e23c98735",
              "version_major": 2,
              "version_minor": 0
            },
            "text/plain": [
              "Training epoch:   0%|          | 0/196 [00:00<?, ?it/s]"
            ]
          },
          "metadata": {},
          "output_type": "display_data"
        },
        {
          "name": "stdout",
          "output_type": "stream",
          "text": [
            "----- Epoch = 31 -----\n",
            "Val loss = 0.8398\n",
            "\n"
          ]
        },
        {
          "data": {
            "application/vnd.jupyter.widget-view+json": {
              "model_id": "2e9a703433e6498b895b03d3abd57583",
              "version_major": 2,
              "version_minor": 0
            },
            "text/plain": [
              "Training epoch:   0%|          | 0/196 [00:00<?, ?it/s]"
            ]
          },
          "metadata": {},
          "output_type": "display_data"
        },
        {
          "name": "stdout",
          "output_type": "stream",
          "text": [
            "----- Epoch = 32 -----\n",
            "Val loss = 0.8487\n",
            "\n"
          ]
        },
        {
          "data": {
            "application/vnd.jupyter.widget-view+json": {
              "model_id": "d0a287ef9d53483b90d5f11c69db2d19",
              "version_major": 2,
              "version_minor": 0
            },
            "text/plain": [
              "Training epoch:   0%|          | 0/196 [00:00<?, ?it/s]"
            ]
          },
          "metadata": {},
          "output_type": "display_data"
        },
        {
          "name": "stdout",
          "output_type": "stream",
          "text": [
            "----- Epoch = 33 -----\n",
            "Val loss = 0.8271\n",
            "\n",
            "New best epoch, loss = 0.8271\n",
            "\n"
          ]
        },
        {
          "data": {
            "application/vnd.jupyter.widget-view+json": {
              "model_id": "3863a1942c204e49a96bd393efe7714f",
              "version_major": 2,
              "version_minor": 0
            },
            "text/plain": [
              "Training epoch:   0%|          | 0/196 [00:00<?, ?it/s]"
            ]
          },
          "metadata": {},
          "output_type": "display_data"
        },
        {
          "name": "stdout",
          "output_type": "stream",
          "text": [
            "----- Epoch = 34 -----\n",
            "Val loss = 0.8619\n",
            "\n"
          ]
        },
        {
          "data": {
            "application/vnd.jupyter.widget-view+json": {
              "model_id": "f183604913624bbfa70c62c88fd59e3f",
              "version_major": 2,
              "version_minor": 0
            },
            "text/plain": [
              "Training epoch:   0%|          | 0/196 [00:00<?, ?it/s]"
            ]
          },
          "metadata": {},
          "output_type": "display_data"
        },
        {
          "name": "stdout",
          "output_type": "stream",
          "text": [
            "----- Epoch = 35 -----\n",
            "Val loss = 0.8509\n",
            "\n"
          ]
        },
        {
          "data": {
            "application/vnd.jupyter.widget-view+json": {
              "model_id": "1ca0b5891b774f13bf8f962d3832143c",
              "version_major": 2,
              "version_minor": 0
            },
            "text/plain": [
              "Training epoch:   0%|          | 0/196 [00:00<?, ?it/s]"
            ]
          },
          "metadata": {},
          "output_type": "display_data"
        },
        {
          "name": "stdout",
          "output_type": "stream",
          "text": [
            "----- Epoch = 36 -----\n",
            "Val loss = 0.8478\n",
            "\n"
          ]
        },
        {
          "data": {
            "application/vnd.jupyter.widget-view+json": {
              "model_id": "d5eb98df5a184becb32b009f7838c15f",
              "version_major": 2,
              "version_minor": 0
            },
            "text/plain": [
              "Training epoch:   0%|          | 0/196 [00:00<?, ?it/s]"
            ]
          },
          "metadata": {},
          "output_type": "display_data"
        },
        {
          "name": "stdout",
          "output_type": "stream",
          "text": [
            "----- Epoch = 37 -----\n",
            "Val loss = 0.8525\n",
            "\n"
          ]
        },
        {
          "data": {
            "application/vnd.jupyter.widget-view+json": {
              "model_id": "a38cd60795124cdb8f63b49b0b0708bf",
              "version_major": 2,
              "version_minor": 0
            },
            "text/plain": [
              "Training epoch:   0%|          | 0/196 [00:00<?, ?it/s]"
            ]
          },
          "metadata": {},
          "output_type": "display_data"
        },
        {
          "name": "stdout",
          "output_type": "stream",
          "text": [
            "----- Epoch = 38 -----\n",
            "Val loss = 0.8579\n",
            "\n"
          ]
        },
        {
          "data": {
            "application/vnd.jupyter.widget-view+json": {
              "model_id": "30a200e732b54c7fb328d786f8ba0bed",
              "version_major": 2,
              "version_minor": 0
            },
            "text/plain": [
              "Training epoch:   0%|          | 0/196 [00:00<?, ?it/s]"
            ]
          },
          "metadata": {},
          "output_type": "display_data"
        },
        {
          "name": "stdout",
          "output_type": "stream",
          "text": [
            "----- Epoch = 39 -----\n",
            "Val loss = 0.8859\n",
            "\n"
          ]
        },
        {
          "data": {
            "application/vnd.jupyter.widget-view+json": {
              "model_id": "7a4b41c916744853a2740c2639c4c18b",
              "version_major": 2,
              "version_minor": 0
            },
            "text/plain": [
              "Training epoch:   0%|          | 0/196 [00:00<?, ?it/s]"
            ]
          },
          "metadata": {},
          "output_type": "display_data"
        },
        {
          "name": "stdout",
          "output_type": "stream",
          "text": [
            "----- Epoch = 40 -----\n",
            "Val loss = 0.8685\n",
            "\n"
          ]
        },
        {
          "data": {
            "application/vnd.jupyter.widget-view+json": {
              "model_id": "088366040fd94879b8e5aaf1be661cf0",
              "version_major": 2,
              "version_minor": 0
            },
            "text/plain": [
              "Training epoch:   0%|          | 0/196 [00:00<?, ?it/s]"
            ]
          },
          "metadata": {},
          "output_type": "display_data"
        },
        {
          "name": "stdout",
          "output_type": "stream",
          "text": [
            "----- Epoch = 41 -----\n",
            "Val loss = 0.8813\n",
            "\n"
          ]
        },
        {
          "data": {
            "application/vnd.jupyter.widget-view+json": {
              "model_id": "b36d676fd5be4222ab2ea3f993b5cb83",
              "version_major": 2,
              "version_minor": 0
            },
            "text/plain": [
              "Training epoch:   0%|          | 0/196 [00:00<?, ?it/s]"
            ]
          },
          "metadata": {},
          "output_type": "display_data"
        },
        {
          "name": "stdout",
          "output_type": "stream",
          "text": [
            "----- Epoch = 42 -----\n",
            "Val loss = 0.8642\n",
            "\n"
          ]
        },
        {
          "data": {
            "application/vnd.jupyter.widget-view+json": {
              "model_id": "fa450b8c5bd74daeb236d42ae65dabe3",
              "version_major": 2,
              "version_minor": 0
            },
            "text/plain": [
              "Training epoch:   0%|          | 0/196 [00:00<?, ?it/s]"
            ]
          },
          "metadata": {},
          "output_type": "display_data"
        },
        {
          "name": "stdout",
          "output_type": "stream",
          "text": [
            "----- Epoch = 43 -----\n",
            "Val loss = 0.9159\n",
            "\n"
          ]
        },
        {
          "data": {
            "application/vnd.jupyter.widget-view+json": {
              "model_id": "30c615d035224289af2fd537b88fa24b",
              "version_major": 2,
              "version_minor": 0
            },
            "text/plain": [
              "Training epoch:   0%|          | 0/196 [00:00<?, ?it/s]"
            ]
          },
          "metadata": {},
          "output_type": "display_data"
        },
        {
          "name": "stdout",
          "output_type": "stream",
          "text": [
            "----- Epoch = 44 -----\n",
            "Val loss = 0.8859\n",
            "\n",
            "Epoch    44: reducing learning rate of group 0 to 5.0000e-04.\n"
          ]
        },
        {
          "data": {
            "application/vnd.jupyter.widget-view+json": {
              "model_id": "c3e4235dbfb440fab075cbdaaccb2203",
              "version_major": 2,
              "version_minor": 0
            },
            "text/plain": [
              "Training epoch:   0%|          | 0/196 [00:00<?, ?it/s]"
            ]
          },
          "metadata": {},
          "output_type": "display_data"
        },
        {
          "name": "stdout",
          "output_type": "stream",
          "text": [
            "----- Epoch = 45 -----\n",
            "Val loss = 0.9024\n",
            "\n"
          ]
        },
        {
          "data": {
            "application/vnd.jupyter.widget-view+json": {
              "model_id": "a1fae4a21c604496809fa1eff4c44226",
              "version_major": 2,
              "version_minor": 0
            },
            "text/plain": [
              "Training epoch:   0%|          | 0/196 [00:00<?, ?it/s]"
            ]
          },
          "metadata": {},
          "output_type": "display_data"
        },
        {
          "name": "stdout",
          "output_type": "stream",
          "text": [
            "----- Epoch = 46 -----\n",
            "Val loss = 0.8969\n",
            "\n"
          ]
        },
        {
          "data": {
            "application/vnd.jupyter.widget-view+json": {
              "model_id": "54f538e0a45e41beadd26199bbb9dc27",
              "version_major": 2,
              "version_minor": 0
            },
            "text/plain": [
              "Training epoch:   0%|          | 0/196 [00:00<?, ?it/s]"
            ]
          },
          "metadata": {},
          "output_type": "display_data"
        },
        {
          "name": "stdout",
          "output_type": "stream",
          "text": [
            "----- Epoch = 47 -----\n",
            "Val loss = 0.9275\n",
            "\n"
          ]
        },
        {
          "data": {
            "application/vnd.jupyter.widget-view+json": {
              "model_id": "ae34e1dbf3174f5a905ca5b05840c200",
              "version_major": 2,
              "version_minor": 0
            },
            "text/plain": [
              "Training epoch:   0%|          | 0/196 [00:00<?, ?it/s]"
            ]
          },
          "metadata": {},
          "output_type": "display_data"
        },
        {
          "name": "stdout",
          "output_type": "stream",
          "text": [
            "----- Epoch = 48 -----\n",
            "Val loss = 0.9186\n",
            "\n"
          ]
        },
        {
          "data": {
            "application/vnd.jupyter.widget-view+json": {
              "model_id": "fff9b0ece9794e6fb46dbddd0785e4ac",
              "version_major": 2,
              "version_minor": 0
            },
            "text/plain": [
              "Training epoch:   0%|          | 0/196 [00:00<?, ?it/s]"
            ]
          },
          "metadata": {},
          "output_type": "display_data"
        },
        {
          "name": "stdout",
          "output_type": "stream",
          "text": [
            "----- Epoch = 49 -----\n",
            "Val loss = 0.9053\n",
            "\n"
          ]
        },
        {
          "data": {
            "application/vnd.jupyter.widget-view+json": {
              "model_id": "57b4c69704764d13851d365d33e47039",
              "version_major": 2,
              "version_minor": 0
            },
            "text/plain": [
              "Training epoch:   0%|          | 0/196 [00:00<?, ?it/s]"
            ]
          },
          "metadata": {},
          "output_type": "display_data"
        },
        {
          "name": "stdout",
          "output_type": "stream",
          "text": [
            "----- Epoch = 50 -----\n",
            "Val loss = 0.9272\n",
            "\n"
          ]
        },
        {
          "data": {
            "application/vnd.jupyter.widget-view+json": {
              "model_id": "190c4c1c4d284d94af28bc5200074ea9",
              "version_major": 2,
              "version_minor": 0
            },
            "text/plain": [
              "Training epoch:   0%|          | 0/196 [00:00<?, ?it/s]"
            ]
          },
          "metadata": {},
          "output_type": "display_data"
        },
        {
          "name": "stdout",
          "output_type": "stream",
          "text": [
            "----- Epoch = 51 -----\n",
            "Val loss = 0.9628\n",
            "\n"
          ]
        },
        {
          "data": {
            "application/vnd.jupyter.widget-view+json": {
              "model_id": "5b3a62c20aa946bfb4bfef91e9356566",
              "version_major": 2,
              "version_minor": 0
            },
            "text/plain": [
              "Training epoch:   0%|          | 0/196 [00:00<?, ?it/s]"
            ]
          },
          "metadata": {},
          "output_type": "display_data"
        },
        {
          "name": "stdout",
          "output_type": "stream",
          "text": [
            "----- Epoch = 52 -----\n",
            "Val loss = 0.9712\n",
            "\n"
          ]
        },
        {
          "data": {
            "application/vnd.jupyter.widget-view+json": {
              "model_id": "cbae0a363e344a53929cce34f090ffba",
              "version_major": 2,
              "version_minor": 0
            },
            "text/plain": [
              "Training epoch:   0%|          | 0/196 [00:00<?, ?it/s]"
            ]
          },
          "metadata": {},
          "output_type": "display_data"
        },
        {
          "name": "stdout",
          "output_type": "stream",
          "text": [
            "----- Epoch = 53 -----\n",
            "Val loss = 0.9617\n",
            "\n",
            "Stopping early\n"
          ]
        }
      ],
      "source": [
        "# Train\n",
        "surrogate.train_original_model(\n",
        "    train_surr,\n",
        "    val_surr,\n",
        "    original_model,\n",
        "    batch_size=256,\n",
        "    max_epochs=100,\n",
        "    loss_fn=KLDivLoss(),\n",
        "    lookback=20, #10\n",
        "    bar=True,\n",
        "    verbose=True)"
      ]
    },
    {
      "cell_type": "code",
      "execution_count": null,
      "id": "5f83df1a",
      "metadata": {
        "id": "5f83df1a"
      },
      "outputs": [],
      "source": [
        "surr.cpu()\n",
        "# torch.save(surr, 'cifar_c10_vit_surrogate_lb20.pt') # lookback 20, best val loss 0.7623\n",
        "torch.save(surr, surr_model_path) # lookback 20, best val loss, best vak kiss 0.5698\n",
        "# ls 0.827"
      ]
    },
    {
      "cell_type": "markdown",
      "id": "78d77c45",
      "metadata": {
        "id": "78d77c45"
      },
      "source": [
        "# train fastshap"
      ]
    },
    {
      "cell_type": "code",
      "execution_count": null,
      "id": "171e3355",
      "metadata": {
        "id": "171e3355"
      },
      "outputs": [],
      "source": [
        "from unet import UNet\n",
        "from fastshap import FastSHAP"
      ]
    },
    {
      "cell_type": "code",
      "execution_count": null,
      "id": "13c8c4a7",
      "metadata": {
        "id": "13c8c4a7"
      },
      "outputs": [],
      "source": [
        "explainer_path = 'cifar_explainer_unet_lb20.pt'"
      ]
    },
    {
      "cell_type": "code",
      "execution_count": null,
      "id": "6bcc8ee1",
      "metadata": {
        "id": "6bcc8ee1",
        "outputId": "ca04c346-67c3-4a55-8e26-daa02387bbd8"
      },
      "outputs": [
        {
          "name": "stdout",
          "output_type": "stream",
          "text": [
            "Loading saved explainer model\n"
          ]
        }
      ],
      "source": [
        "# Check for model\n",
        "if os.path.isfile(explainer_path):\n",
        "    print('Loading saved explainer model')\n",
        "    explainer = torch.load(explainer_path).to(device)\n",
        "    fastshap = FastSHAP(explainer, surrogate, link=nn.LogSoftmax(dim=1))\n",
        "\n",
        "else:\n",
        "    # Set up explainer model\n",
        "    explainer = UNet(n_classes=10, num_down=2, num_up=1, num_convs=3).to(device)\n",
        "\n",
        "    # Set up FastSHAP object\n",
        "    fastshap = FastSHAP(explainer, surrogate, link=nn.LogSoftmax(dim=1))\n",
        "\n",
        "    # Set up datasets\n",
        "    fastshap_train = DatasetInputOnly(train_set)\n",
        "    fastshap_val = DatasetInputOnly(val_set)\n",
        "\n",
        "    # Train\n",
        "    fastshap.train(\n",
        "        fastshap_train,\n",
        "        fastshap_val,\n",
        "        batch_size=128,\n",
        "        num_samples=2,\n",
        "        max_epochs=200,\n",
        "        eff_lambda=1e-2,\n",
        "        validation_samples=1,\n",
        "        lookback=10,\n",
        "        bar=True,\n",
        "        verbose=True)\n",
        "    \n",
        "    # Save explainer\n",
        "    explainer.cpu()\n",
        "    torch.save(explainer, explainer_path)\n",
        "    explainer.to(device)"
      ]
    },
    {
      "cell_type": "markdown",
      "id": "b395d911",
      "metadata": {
        "id": "b395d911"
      },
      "source": [
        "# visualization"
      ]
    },
    {
      "cell_type": "code",
      "execution_count": null,
      "id": "5228d036",
      "metadata": {
        "id": "5228d036"
      },
      "outputs": [],
      "source": [
        "import matplotlib.pyplot as plt"
      ]
    },
    {
      "cell_type": "code",
      "execution_count": null,
      "id": "6f4e29de",
      "metadata": {
        "id": "6f4e29de",
        "outputId": "a9db8e8b-bc42-4c1e-8c6d-794bb5f949fb"
      },
      "outputs": [
        {
          "data": {
            "image/png": "[encoded data removed]",
            "text/plain": [
              "<Figure size 1584x1440 with 110 Axes>"
            ]
          },
          "metadata": {},
          "output_type": "display_data"
        }
      ],
      "source": [
        "# Select one image from each class\n",
        "dset = val_set\n",
        "targets = np.array(dset.targets)\n",
        "num_classes = targets.max() + 1\n",
        "inds_lists = [np.where(targets == cat)[0] for cat in range(num_classes)]\n",
        "inds = [np.random.choice(cat_inds) for cat_inds in inds_lists]\n",
        "x, y = zip(*[dset[ind] for ind in inds])\n",
        "x = torch.stack(x)\n",
        "\n",
        "# Get explanations\n",
        "values = fastshap.shap_values(x.to(device))\n",
        "\n",
        "# Get predictions\n",
        "pred = surrogate(\n",
        "    x.to(device),\n",
        "    torch.ones(num_classes, surrogate.num_players, device=device)\n",
        ").softmax(dim=1).cpu().data.numpy()\n",
        "\n",
        "fig, axarr = plt.subplots(num_classes, num_classes + 1, figsize=(22, 20))\n",
        "\n",
        "for row in range(num_classes):\n",
        "    # Image\n",
        "    classes = ['Airplane', 'Car', 'Bird', 'Cat', 'Deer', 'Dog', 'Frog', 'Horse', 'Ship', 'Truck']\n",
        "    mean = np.array([0.4914, 0.4822, 0.4465])[:, np.newaxis, np.newaxis]\n",
        "    std = np.array([0.2023, 0.1994, 0.2010])[:, np.newaxis, np.newaxis]\n",
        "    im = x[row].numpy() * std + mean\n",
        "    im = im.transpose(1, 2, 0).astype(float)\n",
        "    im = np.clip(im, a_min=0, a_max=1)\n",
        "    axarr[row, 0].imshow(im, vmin=0, vmax=1)\n",
        "    axarr[row, 0].set_xticks([])\n",
        "    axarr[row, 0].set_yticks([])\n",
        "    axarr[row, 0].set_ylabel('{}'.format(classes[y[row]]), fontsize=14)\n",
        "    \n",
        "    # Explanations\n",
        "    m = np.abs(values[row]).max()\n",
        "    for col in range(num_classes):\n",
        "        axarr[row, col + 1].imshow(values[row, col], cmap='seismic', vmin=-m, vmax=m)\n",
        "        axarr[row, col + 1].set_xticks([])\n",
        "        axarr[row, col + 1].set_yticks([])\n",
        "        if col == y[row]:\n",
        "            axarr[row, col + 1].set_xlabel('{:.2f}'.format(pred[row, col]), fontsize=12, fontweight='bold')\n",
        "        else:\n",
        "            axarr[row, col + 1].set_xlabel('{:.2f}'.format(pred[row, col]), fontsize=12)\n",
        "        \n",
        "        # Class labels\n",
        "        if row == 0:\n",
        "            axarr[row, col + 1].set_title('{}'.format(classes[y[col]]), fontsize=14)\n",
        "\n",
        "plt.tight_layout()\n",
        "plt.show()"
      ]
    },
    {
      "cell_type": "code",
      "execution_count": null,
      "id": "f17ad7e0",
      "metadata": {
        "id": "f17ad7e0"
      },
      "outputs": [],
      "source": [
        ""
      ]
    }
  ],
  "metadata": {
    "kernelspec": {
      "display_name": "Python 3",
      "language": "python",
      "name": "python3"
    },
    "language_info": {
      "codemirror_mode": {
        "name": "ipython",
        "version": 3
      },
      "file_extension": ".py",
      "mimetype": "text/x-python",
      "name": "python",
      "nbconvert_exporter": "python",
      "pygments_lexer": "ipython3",
      "version": "3.7.11"
    },
    "colab": {
      "name": "cifar-vit-load-weights.ipynb",
      "provenance": [],
      "include_colab_link": true
    }
  },
  "nbformat": 4,
  "nbformat_minor": 5
}